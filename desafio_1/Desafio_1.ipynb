{
  "cells": [
    {
      "cell_type": "markdown",
      "metadata": {
        "id": "zq6j8LsYq1Dr"
      },
      "source": [
        "### Vectorización de texto y modelo de clasificación Naïve Bayes con el dataset 20 newsgroups"
      ]
    },
    {
      "cell_type": "code",
      "execution_count": 1,
      "metadata": {
        "id": "l7cXR6CI30ry"
      },
      "outputs": [],
      "source": [
        "from sklearn.feature_extraction.text import CountVectorizer, TfidfVectorizer\n",
        "from sklearn.metrics.pairwise import cosine_similarity\n",
        "from sklearn.naive_bayes import MultinomialNB, ComplementNB\n",
        "from sklearn.metrics import f1_score\n",
        "\n",
        "# 20newsgroups por ser un dataset clásico de NLP ya viene incluido y formateado\n",
        "# en sklearn\n",
        "from sklearn.datasets import fetch_20newsgroups\n",
        "import numpy as np\n",
        "\n",
        "import matplotlib.pyplot as plt\n",
        "\n",
        "import textwrap"
      ]
    },
    {
      "cell_type": "markdown",
      "metadata": {
        "id": "yD-pVDWV_rQc"
      },
      "source": [
        "## Carga de datos"
      ]
    },
    {
      "cell_type": "code",
      "execution_count": 3,
      "metadata": {
        "id": "Ech9qJaUo9vK"
      },
      "outputs": [],
      "source": [
        "# cargamos los datos (ya separados de forma predeterminada en train y test)\n",
        "newsgroups_train = fetch_20newsgroups(subset='train', remove=('headers', 'footers', 'quotes'))\n",
        "newsgroups_test = fetch_20newsgroups(subset='test', remove=('headers', 'footers', 'quotes'))"
      ]
    },
    {
      "cell_type": "markdown",
      "metadata": {
        "id": "UxjSI7su_uWI"
      },
      "source": [
        "## Vectorización"
      ]
    },
    {
      "cell_type": "code",
      "execution_count": 4,
      "metadata": {
        "id": "-94VP0QYCzDn"
      },
      "outputs": [],
      "source": [
        "# instanciamos un vectorizador\n",
        "# ver diferentes parámetros de instanciación en la documentación de sklearn\n",
        "tfidfvect = TfidfVectorizer()"
      ]
    },
    {
      "cell_type": "code",
      "execution_count": 7,
      "metadata": {
        "colab": {
          "base_uri": "https://localhost:8080/",
          "height": 104
        },
        "id": "ftPlyanuak8n",
        "outputId": "45a94d0e-49e7-4f7c-c806-7d5b66779dd0"
      },
      "outputs": [
        {
          "data": {
            "text/plain": [
              "\"Does anyone know what processor the Atari 2600 used? What I'm looking for is th\\ne pin-outs for the Atari 2600.... the schematics for it it... does anyone have\\nany idea where I could find this or any related information? This is very impor\\ntant. Also, are the ROM chips that were used fo rthe 2600 games still available\\n, or were they propreitary? Please email me with any responces, as this is very\\n important.. Thanks a million...\\n\\nBTW- Anyone who works/has worked for Atari, I could really use your help with i\\nnfo on the old 2600, please email me if you are willing to help me.... thatnks\\nalot!!\""
            ]
          },
          "execution_count": 7,
          "metadata": {},
          "output_type": "execute_result"
        }
      ],
      "source": [
        "# en el atributo `data` accedemos al texto\n",
        "newsgroups_train.data[90]"
      ]
    },
    {
      "cell_type": "code",
      "execution_count": 8,
      "metadata": {
        "id": "1zxcXV6aC_oL"
      },
      "outputs": [],
      "source": [
        "# con la interfaz habitual de sklearn podemos fitear el vectorizador\n",
        "# (obtener el vocabulario y calcular el vector IDF)\n",
        "# y transformar directamente los datos\n",
        "X_train = tfidfvect.fit_transform(newsgroups_train.data)\n",
        "# `X_train` la podemos denominar como la matriz documento-término"
      ]
    },
    {
      "cell_type": "code",
      "execution_count": 9,
      "metadata": {
        "colab": {
          "base_uri": "https://localhost:8080/"
        },
        "id": "4Sv7TXbda41-",
        "outputId": "dcca5de6-dac1-4d68-d284-ce7be2ed9e2f"
      },
      "outputs": [
        {
          "name": "stdout",
          "output_type": "stream",
          "text": [
            "<class 'scipy.sparse._csr.csr_matrix'>\n",
            "shape: (11314, 101631)\n",
            "cantidad de documentos: 11314\n",
            "tamaño del vocabulario (dimensionalidad de los vectores): 101631\n"
          ]
        }
      ],
      "source": [
        "# recordar que las vectorizaciones por conteos son esparsas\n",
        "# por ello sklearn convenientemente devuelve los vectores de documentos\n",
        "# como matrices esparsas\n",
        "print(type(X_train))\n",
        "print(f'shape: {X_train.shape}')\n",
        "print(f'cantidad de documentos: {X_train.shape[0]}')\n",
        "print(f'tamaño del vocabulario (dimensionalidad de los vectores): {X_train.shape[1]}')"
      ]
    },
    {
      "cell_type": "code",
      "execution_count": 12,
      "metadata": {
        "colab": {
          "base_uri": "https://localhost:8080/"
        },
        "id": "dgydNTZ2pAgR",
        "outputId": "95111464-e40c-4b57-d154-ede153739a82"
      },
      "outputs": [
        {
          "data": {
            "text/plain": [
              "55675"
            ]
          },
          "execution_count": 12,
          "metadata": {},
          "output_type": "execute_result"
        }
      ],
      "source": [
        "# una vez fiteado el vectorizador, podemos acceder a atributos como el vocabulario\n",
        "# aprendido. Es un diccionario que va de términos a índices.\n",
        "# El índice es la posición en el vector de documento.\n",
        "tfidfvect.vocabulary_['laptop']"
      ]
    },
    {
      "cell_type": "code",
      "execution_count": 13,
      "metadata": {
        "id": "xnTSZuvyrTcP"
      },
      "outputs": [],
      "source": [
        "# es muy útil tener el diccionario opuesto que va de índices a términos\n",
        "idx2word = {v: k for k,v in tfidfvect.vocabulary_.items()}"
      ]
    },
    {
      "cell_type": "code",
      "execution_count": 14,
      "metadata": {
        "colab": {
          "base_uri": "https://localhost:8080/"
        },
        "id": "swa-AgWrMSHM",
        "outputId": "93d09f31-4c42-4215-e750-a13c83ecf96a"
      },
      "outputs": [
        {
          "data": {
            "text/plain": [
              "array([ 7,  4,  4,  1, 14, 16, 13,  3,  2,  4])"
            ]
          },
          "execution_count": 14,
          "metadata": {},
          "output_type": "execute_result"
        }
      ],
      "source": [
        "# en `y_train` guardamos los targets que son enteros\n",
        "y_train = newsgroups_train.target\n",
        "y_train[:10]"
      ]
    },
    {
      "cell_type": "code",
      "execution_count": 15,
      "metadata": {
        "colab": {
          "base_uri": "https://localhost:8080/"
        },
        "id": "je5kxvQMDLvf",
        "outputId": "59799046-9799-406f-c4be-81c5765de58d"
      },
      "outputs": [
        {
          "name": "stdout",
          "output_type": "stream",
          "text": [
            "clases [ 0  1  2  3  4  5  6  7  8  9 10 11 12 13 14 15 16 17 18 19]\n"
          ]
        },
        {
          "data": {
            "text/plain": [
              "['alt.atheism',\n",
              " 'comp.graphics',\n",
              " 'comp.os.ms-windows.misc',\n",
              " 'comp.sys.ibm.pc.hardware',\n",
              " 'comp.sys.mac.hardware',\n",
              " 'comp.windows.x',\n",
              " 'misc.forsale',\n",
              " 'rec.autos',\n",
              " 'rec.motorcycles',\n",
              " 'rec.sport.baseball',\n",
              " 'rec.sport.hockey',\n",
              " 'sci.crypt',\n",
              " 'sci.electronics',\n",
              " 'sci.med',\n",
              " 'sci.space',\n",
              " 'soc.religion.christian',\n",
              " 'talk.politics.guns',\n",
              " 'talk.politics.mideast',\n",
              " 'talk.politics.misc',\n",
              " 'talk.religion.misc']"
            ]
          },
          "execution_count": 15,
          "metadata": {},
          "output_type": "execute_result"
        }
      ],
      "source": [
        "# hay 20 clases correspondientes a los 20 grupos de noticias\n",
        "print(f'clases {np.unique(newsgroups_test.target)}')\n",
        "newsgroups_test.target_names"
      ]
    },
    {
      "cell_type": "markdown",
      "metadata": {
        "id": "SXCICFSd_y90"
      },
      "source": [
        "## Similaridad de documentos"
      ]
    },
    {
      "cell_type": "code",
      "execution_count": 16,
      "metadata": {
        "colab": {
          "base_uri": "https://localhost:8080/"
        },
        "id": "_pki_olShnyE",
        "outputId": "b2bd8485-40c7-4923-c8a9-4ad6b735576e"
      },
      "outputs": [
        {
          "name": "stdout",
          "output_type": "stream",
          "text": [
            "THE WHITE HOUSE\n",
            "\n",
            "                  Office of the Press Secretary\n",
            "                   (Pittsburgh, Pennslyvania)\n",
            "______________________________________________________________\n",
            "For Immediate Release                         April 17, 1993     \n",
            "\n",
            "             \n",
            "                  RADIO ADDRESS TO THE NATION \n",
            "                        BY THE PRESIDENT\n",
            "             \n",
            "                Pittsburgh International Airport\n",
            "                    Pittsburgh, Pennsylvania\n",
            "             \n",
            "             \n",
            "10:06 A.M. EDT\n",
            "             \n",
            "             \n",
            "             THE PRESIDENT:  Good morning.  My voice is coming to\n",
            "you this morning through the facilities of the oldest radio\n",
            "station in America, KDKA in Pittsburgh.  I'm visiting the city to\n",
            "meet personally with citizens here to discuss my plans for jobs,\n",
            "health care and the economy.  But I wanted first to do my weekly\n",
            "broadcast with the American people. \n",
            "             \n",
            "             I'm told this station first broadcast in 1920 when\n",
            "it reported that year's presidential elections.  Over the past\n",
            "seven decades presidents have found ways to keep in touch with\n",
            "the people, from whistle-stop tours to fire-side chats to the bus\n",
            "tour that I adopted, along with Vice President Gore, in last\n",
            "year's campaign.\n",
            "             \n",
            "             Every Saturday morning I take this time to talk with\n",
            "you, my fellow Americans, about the problems on your minds and\n",
            "what I'm doing to try and solve them.  It's my way of reporting\n",
            "to you and of giving you a way to hold me accountable.\n",
            "             \n",
            "             You sent me to Washington to get our government and\n",
            "economy moving after years of paralysis and policy and a bad\n",
            "experiment with trickle-down economics.  You know how important\n",
            "it is for us to make bold, comprehensive changes in the way we do\n",
            "business.  \n",
            "             \n",
            "             We live in a competitive global economy.  Nations\n",
            "rise and fall on the skills of their workers, the competitiveness\n",
            "of their companies, the imagination of their industries, and the\n",
            "cooperative experience and spirit that exists between business,\n",
            "labor and government.  Although many of the economies of the\n",
            "industrialized world are now suffering from slow growth, they've\n",
            "made many of the smart investments and the tough choices which\n",
            "our government has for too long ignored.  That's why many of them\n",
            "have been moving ahead and too many of our people have been\n",
            "falling behind.\n",
            "             \n",
            "             We have an economy today that even when it grows is\n",
            "not producing new jobs.  We've increased the debt of our nation\n",
            "by four times over the last 12 years, and we don't have much to\n",
            "show for it.  We know that wages of most working people have\n",
            "stopped rising, that most people are working longer work weeks\n",
            "and that too many families can no longer afford the escalating\n",
            "cost of health care.\n",
            "             \n",
            "             But we also know that, given the right tools, the\n",
            "right incentives and the right encouragement, our workers and\n",
            "businesses can make the kinds of products and profits our economy\n",
            "needs to expand opportunity and to make our communities better\n",
            "places to live.\n",
            "             \n",
            "             In many critical products today Americans are the\n",
            "low cost, high quality producers.  Our task is to make sure that\n",
            "we create more of those kinds of jobs.\n",
            "             \n",
            "             Just two months ago I gave Congress my plan for\n",
            "long-term jobs and economic growth.  It changes the old\n",
            "priorities in Washington and puts our emphasis where it needs to\n",
            "be -- on people's real needs, on increasing investments and jobs\n",
            "and education, on cutting the federal deficit, on stopping the\n",
            "waste which pays no dividends, and redirecting our precious\n",
            "resources toward investment that creates jobs now and lays the\n",
            "groundwork for robust economic growth in the future.\n",
            "             \n",
            "             These new directions passed the Congress in record\n",
            "time and created a new sense of hope and opportunity in our\n",
            "country.  Then the jobs plan I presented to Congress, which would\n",
            "create hundreds of thousands of jobs, most of them in the private\n",
            "sector in 1993 and 1994, passed the House of Representatives.  It\n",
            "now has the support of a majority of the United States Senate. \n",
            "But it's been held up by a filibuster of a minority in the\n",
            "Senate, just 43 senators.  They blocked a vote that they know\n",
            "would result in the passage of our bill and the creation of jobs.\n",
            "             \n",
            "             The issue isn't politics; the issue is people. \n",
            "Millions of Americans are waiting for this legislation and\n",
            "counting on it, counting on us in Washington.  But the jobs bill\n",
            "has been grounded by gridlock.  \n",
            "             \n",
            "             I know the American people are tired of business as\n",
            "usual and politics as usual.  I know they don't want us to spin\n",
            "or wheels.  They want the recovery to get moving.  So I have\n",
            "taken a first step to break this gridlock and gone the extra\n",
            "mile.  Yesterday I offered to cut the size of this plan by 25\n",
            "percent -- from $16 billion to $12 billion.  \n",
            "             \n",
            "             It's not what I'd hoped for.  With 16 million\n",
            "Americans looking for full-time work, I simply can't let the bill\n",
            "languish when I know that even a compromise bill will mean\n",
            "hundreds of thousands of jobs for our people.  The mandate is to\n",
            "act to achieve change and move the country forward.  By taking\n",
            "this initiative in the face of an unrelenting Senate talkathon, I\n",
            "think we can respond to your mandate and achieve a significant\n",
            "portion of our original goals.\n",
            "             \n",
            "             First, we want to keep the programs as much as\n",
            "possible that are needed to generate jobs and meet human needs,\n",
            "including highway and road construction, summer jobs for young\n",
            "people, immunization for children, construction of waste water\n",
            "sites, and aid to small businesses.  We also want to keep funding\n",
            "for extended unemployment compensation benefits, for people who\n",
            "have been unemployed for a long time because the economy isn't\n",
            "creating jobs.\n",
            "             \n",
            "             Second, I've recommended that all the other programs\n",
            "in the bill be cut across-the-board by a little more than 40\n",
            "percent.\n",
            "             \n",
            "             And third, I've recommended a new element in this\n",
            "program to help us immediately start our attempt to fight against\n",
            "crime by providing $200 million for cities and towns to rehire\n",
            "police officers who lost their jobs during the recession and put\n",
            "them back to work protecting our people.  I'm also going to fight\n",
            "for a tough crime bill because the people of this country need it\n",
            "and deserve it.\n",
            "             \n",
            "             Now, the people who are filibustering this bill --\n",
            "the Republican senators -- say they won't vote for it because it\n",
            "increases deficit spending, because there's extra spending this\n",
            "year that hasn't already been approved.  That sounds reasonable,\n",
            "doesn't it?  Here's what they don't say.  This program is more\n",
            "than paid for by budget cuts over my five-year budget, and this\n",
            "budget is well within the spending limits already approved by the\n",
            "Congress this year.\n",
            "             \n",
            "             It's amazing to me that many of these same senators\n",
            "who are filibustering the bill voted during the previous\n",
            "administration for billions of dollars of the same kind of\n",
            "emergency spending, and much of it was not designed to put the\n",
            "American people to work.  \n",
            "             \n",
            "             This is not about deficit spending.  We have offered\n",
            "a plan to cut the deficit.  This is about where your priorities\n",
            "are -- on people or on politics.  \n",
            "             \n",
            "             Keep in mind that our jobs bill is paid for dollar\n",
            "for dollar.  It is paid for by budget cuts.  And it's the\n",
            "soundest investment we can now make for ourselves and our\n",
            "children.  I urge all Americans to take another look at this jobs\n",
            "and investment program; to consider again the benefits for all of\n",
            "us when we've helped make more American partners working to\n",
            "ensure the future of our nation and the strength of our economy.\n",
            "             \n",
            "             You know, if every American who wanted a job had\n",
            "one, we wouldn't have a lot of the other problems we have in this\n",
            "country today.  This bill is not a miracle, it's a modest first\n",
            "step to try to set off a job creation explosion in this country\n",
            "again.  But it's a step we ought to take.  And it is fully paid\n",
            "for over the life of our budget.\n",
            "             \n",
            "             Tell your lawmakers what you think.  Tell them how\n",
            "important the bill is.  If it passes, we'll all be winners.\n",
            "             \n",
            "             Good morning, and thank you for listening.\n"
          ]
        }
      ],
      "source": [
        "# Veamos similaridad de documentos. Tomemos algún documento\n",
        "idx = 4811\n",
        "print(newsgroups_train.data[idx])"
      ]
    },
    {
      "cell_type": "code",
      "execution_count": 17,
      "metadata": {
        "id": "Ssa9bqJ-hA_v"
      },
      "outputs": [],
      "source": [
        "# midamos la similaridad coseno con todos los documentos de train\n",
        "cossim = cosine_similarity(X_train[idx], X_train)[0]"
      ]
    },
    {
      "cell_type": "code",
      "execution_count": 18,
      "metadata": {
        "colab": {
          "base_uri": "https://localhost:8080/"
        },
        "id": "p_mDA7p3AzcQ",
        "outputId": "747a3923-4b1c-4e2b-921d-4ebf2b271b00"
      },
      "outputs": [
        {
          "data": {
            "text/plain": [
              "array([1.        , 0.70930477, 0.67474953, ..., 0.        , 0.        ,\n",
              "       0.        ])"
            ]
          },
          "execution_count": 18,
          "metadata": {},
          "output_type": "execute_result"
        }
      ],
      "source": [
        "# podemos ver los valores de similaridad ordenados de mayor a menos\n",
        "np.sort(cossim)[::-1]"
      ]
    },
    {
      "cell_type": "code",
      "execution_count": 19,
      "metadata": {
        "colab": {
          "base_uri": "https://localhost:8080/"
        },
        "id": "0OIhDA1jAryX",
        "outputId": "04ddf3ca-0741-42d7-8bbb-00bb395f7834"
      },
      "outputs": [
        {
          "data": {
            "text/plain": [
              "array([4811, 6635, 4253, ..., 9019, 9016, 8748])"
            ]
          },
          "execution_count": 19,
          "metadata": {},
          "output_type": "execute_result"
        }
      ],
      "source": [
        "# y a qué documentos corresponden\n",
        "np.argsort(cossim)[::-1]"
      ]
    },
    {
      "cell_type": "code",
      "execution_count": 20,
      "metadata": {
        "id": "hP7qLS4ZBLps"
      },
      "outputs": [],
      "source": [
        "# los 5 documentos más similares:\n",
        "mostsim = np.argsort(cossim)[::-1][1:6]"
      ]
    },
    {
      "cell_type": "code",
      "execution_count": 21,
      "metadata": {
        "colab": {
          "base_uri": "https://localhost:8080/",
          "height": 35
        },
        "id": "QdJLHPJACvaj",
        "outputId": "926186cf-7d4c-4bd3-927b-ad00bf7f24f9"
      },
      "outputs": [
        {
          "data": {
            "text/plain": [
              "'talk.politics.misc'"
            ]
          },
          "execution_count": 21,
          "metadata": {},
          "output_type": "execute_result"
        }
      ],
      "source": [
        "# el documento original pertenece a la clase:\n",
        "newsgroups_train.target_names[y_train[idx]]"
      ]
    },
    {
      "cell_type": "code",
      "execution_count": 22,
      "metadata": {
        "colab": {
          "base_uri": "https://localhost:8080/"
        },
        "id": "RWy_73epCbFG",
        "outputId": "daf534e5-b2a8-43d4-d05a-9c52b816cf69"
      },
      "outputs": [
        {
          "name": "stdout",
          "output_type": "stream",
          "text": [
            "talk.politics.misc\n",
            "talk.politics.misc\n",
            "talk.politics.misc\n",
            "talk.politics.misc\n",
            "talk.politics.misc\n"
          ]
        }
      ],
      "source": [
        "# y los 5 más similares son de las clases:\n",
        "for i in mostsim:\n",
        "  print(newsgroups_train.target_names[y_train[i]])"
      ]
    },
    {
      "cell_type": "markdown",
      "metadata": {
        "id": "zRoNnKwhBqzq"
      },
      "source": [
        "### Modelo de clasificación Naïve Bayes"
      ]
    },
    {
      "cell_type": "code",
      "execution_count": 23,
      "metadata": {
        "colab": {
          "base_uri": "https://localhost:8080/",
          "height": 74
        },
        "id": "TPM0thDaLk0R",
        "outputId": "bc7fdc3e-d912-4e0c-9d9e-33efc97b46fc"
      },
      "outputs": [
        {
          "data": {
            "text/html": [
              "<style>#sk-container-id-1 {\n",
              "  /* Definition of color scheme common for light and dark mode */\n",
              "  --sklearn-color-text: black;\n",
              "  --sklearn-color-line: gray;\n",
              "  /* Definition of color scheme for unfitted estimators */\n",
              "  --sklearn-color-unfitted-level-0: #fff5e6;\n",
              "  --sklearn-color-unfitted-level-1: #f6e4d2;\n",
              "  --sklearn-color-unfitted-level-2: #ffe0b3;\n",
              "  --sklearn-color-unfitted-level-3: chocolate;\n",
              "  /* Definition of color scheme for fitted estimators */\n",
              "  --sklearn-color-fitted-level-0: #f0f8ff;\n",
              "  --sklearn-color-fitted-level-1: #d4ebff;\n",
              "  --sklearn-color-fitted-level-2: #b3dbfd;\n",
              "  --sklearn-color-fitted-level-3: cornflowerblue;\n",
              "\n",
              "  /* Specific color for light theme */\n",
              "  --sklearn-color-text-on-default-background: var(--sg-text-color, var(--theme-code-foreground, var(--jp-content-font-color1, black)));\n",
              "  --sklearn-color-background: var(--sg-background-color, var(--theme-background, var(--jp-layout-color0, white)));\n",
              "  --sklearn-color-border-box: var(--sg-text-color, var(--theme-code-foreground, var(--jp-content-font-color1, black)));\n",
              "  --sklearn-color-icon: #696969;\n",
              "\n",
              "  @media (prefers-color-scheme: dark) {\n",
              "    /* Redefinition of color scheme for dark theme */\n",
              "    --sklearn-color-text-on-default-background: var(--sg-text-color, var(--theme-code-foreground, var(--jp-content-font-color1, white)));\n",
              "    --sklearn-color-background: var(--sg-background-color, var(--theme-background, var(--jp-layout-color0, #111)));\n",
              "    --sklearn-color-border-box: var(--sg-text-color, var(--theme-code-foreground, var(--jp-content-font-color1, white)));\n",
              "    --sklearn-color-icon: #878787;\n",
              "  }\n",
              "}\n",
              "\n",
              "#sk-container-id-1 {\n",
              "  color: var(--sklearn-color-text);\n",
              "}\n",
              "\n",
              "#sk-container-id-1 pre {\n",
              "  padding: 0;\n",
              "}\n",
              "\n",
              "#sk-container-id-1 input.sk-hidden--visually {\n",
              "  border: 0;\n",
              "  clip: rect(1px 1px 1px 1px);\n",
              "  clip: rect(1px, 1px, 1px, 1px);\n",
              "  height: 1px;\n",
              "  margin: -1px;\n",
              "  overflow: hidden;\n",
              "  padding: 0;\n",
              "  position: absolute;\n",
              "  width: 1px;\n",
              "}\n",
              "\n",
              "#sk-container-id-1 div.sk-dashed-wrapped {\n",
              "  border: 1px dashed var(--sklearn-color-line);\n",
              "  margin: 0 0.4em 0.5em 0.4em;\n",
              "  box-sizing: border-box;\n",
              "  padding-bottom: 0.4em;\n",
              "  background-color: var(--sklearn-color-background);\n",
              "}\n",
              "\n",
              "#sk-container-id-1 div.sk-container {\n",
              "  /* jupyter's `normalize.less` sets `[hidden] { display: none; }`\n",
              "     but bootstrap.min.css set `[hidden] { display: none !important; }`\n",
              "     so we also need the `!important` here to be able to override the\n",
              "     default hidden behavior on the sphinx rendered scikit-learn.org.\n",
              "     See: https://github.com/scikit-learn/scikit-learn/issues/21755 */\n",
              "  display: inline-block !important;\n",
              "  position: relative;\n",
              "}\n",
              "\n",
              "#sk-container-id-1 div.sk-text-repr-fallback {\n",
              "  display: none;\n",
              "}\n",
              "\n",
              "div.sk-parallel-item,\n",
              "div.sk-serial,\n",
              "div.sk-item {\n",
              "  /* draw centered vertical line to link estimators */\n",
              "  background-image: linear-gradient(var(--sklearn-color-text-on-default-background), var(--sklearn-color-text-on-default-background));\n",
              "  background-size: 2px 100%;\n",
              "  background-repeat: no-repeat;\n",
              "  background-position: center center;\n",
              "}\n",
              "\n",
              "/* Parallel-specific style estimator block */\n",
              "\n",
              "#sk-container-id-1 div.sk-parallel-item::after {\n",
              "  content: \"\";\n",
              "  width: 100%;\n",
              "  border-bottom: 2px solid var(--sklearn-color-text-on-default-background);\n",
              "  flex-grow: 1;\n",
              "}\n",
              "\n",
              "#sk-container-id-1 div.sk-parallel {\n",
              "  display: flex;\n",
              "  align-items: stretch;\n",
              "  justify-content: center;\n",
              "  background-color: var(--sklearn-color-background);\n",
              "  position: relative;\n",
              "}\n",
              "\n",
              "#sk-container-id-1 div.sk-parallel-item {\n",
              "  display: flex;\n",
              "  flex-direction: column;\n",
              "}\n",
              "\n",
              "#sk-container-id-1 div.sk-parallel-item:first-child::after {\n",
              "  align-self: flex-end;\n",
              "  width: 50%;\n",
              "}\n",
              "\n",
              "#sk-container-id-1 div.sk-parallel-item:last-child::after {\n",
              "  align-self: flex-start;\n",
              "  width: 50%;\n",
              "}\n",
              "\n",
              "#sk-container-id-1 div.sk-parallel-item:only-child::after {\n",
              "  width: 0;\n",
              "}\n",
              "\n",
              "/* Serial-specific style estimator block */\n",
              "\n",
              "#sk-container-id-1 div.sk-serial {\n",
              "  display: flex;\n",
              "  flex-direction: column;\n",
              "  align-items: center;\n",
              "  background-color: var(--sklearn-color-background);\n",
              "  padding-right: 1em;\n",
              "  padding-left: 1em;\n",
              "}\n",
              "\n",
              "\n",
              "/* Toggleable style: style used for estimator/Pipeline/ColumnTransformer box that is\n",
              "clickable and can be expanded/collapsed.\n",
              "- Pipeline and ColumnTransformer use this feature and define the default style\n",
              "- Estimators will overwrite some part of the style using the `sk-estimator` class\n",
              "*/\n",
              "\n",
              "/* Pipeline and ColumnTransformer style (default) */\n",
              "\n",
              "#sk-container-id-1 div.sk-toggleable {\n",
              "  /* Default theme specific background. It is overwritten whether we have a\n",
              "  specific estimator or a Pipeline/ColumnTransformer */\n",
              "  background-color: var(--sklearn-color-background);\n",
              "}\n",
              "\n",
              "/* Toggleable label */\n",
              "#sk-container-id-1 label.sk-toggleable__label {\n",
              "  cursor: pointer;\n",
              "  display: block;\n",
              "  width: 100%;\n",
              "  margin-bottom: 0;\n",
              "  padding: 0.5em;\n",
              "  box-sizing: border-box;\n",
              "  text-align: center;\n",
              "}\n",
              "\n",
              "#sk-container-id-1 label.sk-toggleable__label-arrow:before {\n",
              "  /* Arrow on the left of the label */\n",
              "  content: \"▸\";\n",
              "  float: left;\n",
              "  margin-right: 0.25em;\n",
              "  color: var(--sklearn-color-icon);\n",
              "}\n",
              "\n",
              "#sk-container-id-1 label.sk-toggleable__label-arrow:hover:before {\n",
              "  color: var(--sklearn-color-text);\n",
              "}\n",
              "\n",
              "/* Toggleable content - dropdown */\n",
              "\n",
              "#sk-container-id-1 div.sk-toggleable__content {\n",
              "  max-height: 0;\n",
              "  max-width: 0;\n",
              "  overflow: hidden;\n",
              "  text-align: left;\n",
              "  /* unfitted */\n",
              "  background-color: var(--sklearn-color-unfitted-level-0);\n",
              "}\n",
              "\n",
              "#sk-container-id-1 div.sk-toggleable__content.fitted {\n",
              "  /* fitted */\n",
              "  background-color: var(--sklearn-color-fitted-level-0);\n",
              "}\n",
              "\n",
              "#sk-container-id-1 div.sk-toggleable__content pre {\n",
              "  margin: 0.2em;\n",
              "  border-radius: 0.25em;\n",
              "  color: var(--sklearn-color-text);\n",
              "  /* unfitted */\n",
              "  background-color: var(--sklearn-color-unfitted-level-0);\n",
              "}\n",
              "\n",
              "#sk-container-id-1 div.sk-toggleable__content.fitted pre {\n",
              "  /* unfitted */\n",
              "  background-color: var(--sklearn-color-fitted-level-0);\n",
              "}\n",
              "\n",
              "#sk-container-id-1 input.sk-toggleable__control:checked~div.sk-toggleable__content {\n",
              "  /* Expand drop-down */\n",
              "  max-height: 200px;\n",
              "  max-width: 100%;\n",
              "  overflow: auto;\n",
              "}\n",
              "\n",
              "#sk-container-id-1 input.sk-toggleable__control:checked~label.sk-toggleable__label-arrow:before {\n",
              "  content: \"▾\";\n",
              "}\n",
              "\n",
              "/* Pipeline/ColumnTransformer-specific style */\n",
              "\n",
              "#sk-container-id-1 div.sk-label input.sk-toggleable__control:checked~label.sk-toggleable__label {\n",
              "  color: var(--sklearn-color-text);\n",
              "  background-color: var(--sklearn-color-unfitted-level-2);\n",
              "}\n",
              "\n",
              "#sk-container-id-1 div.sk-label.fitted input.sk-toggleable__control:checked~label.sk-toggleable__label {\n",
              "  background-color: var(--sklearn-color-fitted-level-2);\n",
              "}\n",
              "\n",
              "/* Estimator-specific style */\n",
              "\n",
              "/* Colorize estimator box */\n",
              "#sk-container-id-1 div.sk-estimator input.sk-toggleable__control:checked~label.sk-toggleable__label {\n",
              "  /* unfitted */\n",
              "  background-color: var(--sklearn-color-unfitted-level-2);\n",
              "}\n",
              "\n",
              "#sk-container-id-1 div.sk-estimator.fitted input.sk-toggleable__control:checked~label.sk-toggleable__label {\n",
              "  /* fitted */\n",
              "  background-color: var(--sklearn-color-fitted-level-2);\n",
              "}\n",
              "\n",
              "#sk-container-id-1 div.sk-label label.sk-toggleable__label,\n",
              "#sk-container-id-1 div.sk-label label {\n",
              "  /* The background is the default theme color */\n",
              "  color: var(--sklearn-color-text-on-default-background);\n",
              "}\n",
              "\n",
              "/* On hover, darken the color of the background */\n",
              "#sk-container-id-1 div.sk-label:hover label.sk-toggleable__label {\n",
              "  color: var(--sklearn-color-text);\n",
              "  background-color: var(--sklearn-color-unfitted-level-2);\n",
              "}\n",
              "\n",
              "/* Label box, darken color on hover, fitted */\n",
              "#sk-container-id-1 div.sk-label.fitted:hover label.sk-toggleable__label.fitted {\n",
              "  color: var(--sklearn-color-text);\n",
              "  background-color: var(--sklearn-color-fitted-level-2);\n",
              "}\n",
              "\n",
              "/* Estimator label */\n",
              "\n",
              "#sk-container-id-1 div.sk-label label {\n",
              "  font-family: monospace;\n",
              "  font-weight: bold;\n",
              "  display: inline-block;\n",
              "  line-height: 1.2em;\n",
              "}\n",
              "\n",
              "#sk-container-id-1 div.sk-label-container {\n",
              "  text-align: center;\n",
              "}\n",
              "\n",
              "/* Estimator-specific */\n",
              "#sk-container-id-1 div.sk-estimator {\n",
              "  font-family: monospace;\n",
              "  border: 1px dotted var(--sklearn-color-border-box);\n",
              "  border-radius: 0.25em;\n",
              "  box-sizing: border-box;\n",
              "  margin-bottom: 0.5em;\n",
              "  /* unfitted */\n",
              "  background-color: var(--sklearn-color-unfitted-level-0);\n",
              "}\n",
              "\n",
              "#sk-container-id-1 div.sk-estimator.fitted {\n",
              "  /* fitted */\n",
              "  background-color: var(--sklearn-color-fitted-level-0);\n",
              "}\n",
              "\n",
              "/* on hover */\n",
              "#sk-container-id-1 div.sk-estimator:hover {\n",
              "  /* unfitted */\n",
              "  background-color: var(--sklearn-color-unfitted-level-2);\n",
              "}\n",
              "\n",
              "#sk-container-id-1 div.sk-estimator.fitted:hover {\n",
              "  /* fitted */\n",
              "  background-color: var(--sklearn-color-fitted-level-2);\n",
              "}\n",
              "\n",
              "/* Specification for estimator info (e.g. \"i\" and \"?\") */\n",
              "\n",
              "/* Common style for \"i\" and \"?\" */\n",
              "\n",
              ".sk-estimator-doc-link,\n",
              "a:link.sk-estimator-doc-link,\n",
              "a:visited.sk-estimator-doc-link {\n",
              "  float: right;\n",
              "  font-size: smaller;\n",
              "  line-height: 1em;\n",
              "  font-family: monospace;\n",
              "  background-color: var(--sklearn-color-background);\n",
              "  border-radius: 1em;\n",
              "  height: 1em;\n",
              "  width: 1em;\n",
              "  text-decoration: none !important;\n",
              "  margin-left: 1ex;\n",
              "  /* unfitted */\n",
              "  border: var(--sklearn-color-unfitted-level-1) 1pt solid;\n",
              "  color: var(--sklearn-color-unfitted-level-1);\n",
              "}\n",
              "\n",
              ".sk-estimator-doc-link.fitted,\n",
              "a:link.sk-estimator-doc-link.fitted,\n",
              "a:visited.sk-estimator-doc-link.fitted {\n",
              "  /* fitted */\n",
              "  border: var(--sklearn-color-fitted-level-1) 1pt solid;\n",
              "  color: var(--sklearn-color-fitted-level-1);\n",
              "}\n",
              "\n",
              "/* On hover */\n",
              "div.sk-estimator:hover .sk-estimator-doc-link:hover,\n",
              ".sk-estimator-doc-link:hover,\n",
              "div.sk-label-container:hover .sk-estimator-doc-link:hover,\n",
              ".sk-estimator-doc-link:hover {\n",
              "  /* unfitted */\n",
              "  background-color: var(--sklearn-color-unfitted-level-3);\n",
              "  color: var(--sklearn-color-background);\n",
              "  text-decoration: none;\n",
              "}\n",
              "\n",
              "div.sk-estimator.fitted:hover .sk-estimator-doc-link.fitted:hover,\n",
              ".sk-estimator-doc-link.fitted:hover,\n",
              "div.sk-label-container:hover .sk-estimator-doc-link.fitted:hover,\n",
              ".sk-estimator-doc-link.fitted:hover {\n",
              "  /* fitted */\n",
              "  background-color: var(--sklearn-color-fitted-level-3);\n",
              "  color: var(--sklearn-color-background);\n",
              "  text-decoration: none;\n",
              "}\n",
              "\n",
              "/* Span, style for the box shown on hovering the info icon */\n",
              ".sk-estimator-doc-link span {\n",
              "  display: none;\n",
              "  z-index: 9999;\n",
              "  position: relative;\n",
              "  font-weight: normal;\n",
              "  right: .2ex;\n",
              "  padding: .5ex;\n",
              "  margin: .5ex;\n",
              "  width: min-content;\n",
              "  min-width: 20ex;\n",
              "  max-width: 50ex;\n",
              "  color: var(--sklearn-color-text);\n",
              "  box-shadow: 2pt 2pt 4pt #999;\n",
              "  /* unfitted */\n",
              "  background: var(--sklearn-color-unfitted-level-0);\n",
              "  border: .5pt solid var(--sklearn-color-unfitted-level-3);\n",
              "}\n",
              "\n",
              ".sk-estimator-doc-link.fitted span {\n",
              "  /* fitted */\n",
              "  background: var(--sklearn-color-fitted-level-0);\n",
              "  border: var(--sklearn-color-fitted-level-3);\n",
              "}\n",
              "\n",
              ".sk-estimator-doc-link:hover span {\n",
              "  display: block;\n",
              "}\n",
              "\n",
              "/* \"?\"-specific style due to the `<a>` HTML tag */\n",
              "\n",
              "#sk-container-id-1 a.estimator_doc_link {\n",
              "  float: right;\n",
              "  font-size: 1rem;\n",
              "  line-height: 1em;\n",
              "  font-family: monospace;\n",
              "  background-color: var(--sklearn-color-background);\n",
              "  border-radius: 1rem;\n",
              "  height: 1rem;\n",
              "  width: 1rem;\n",
              "  text-decoration: none;\n",
              "  /* unfitted */\n",
              "  color: var(--sklearn-color-unfitted-level-1);\n",
              "  border: var(--sklearn-color-unfitted-level-1) 1pt solid;\n",
              "}\n",
              "\n",
              "#sk-container-id-1 a.estimator_doc_link.fitted {\n",
              "  /* fitted */\n",
              "  border: var(--sklearn-color-fitted-level-1) 1pt solid;\n",
              "  color: var(--sklearn-color-fitted-level-1);\n",
              "}\n",
              "\n",
              "/* On hover */\n",
              "#sk-container-id-1 a.estimator_doc_link:hover {\n",
              "  /* unfitted */\n",
              "  background-color: var(--sklearn-color-unfitted-level-3);\n",
              "  color: var(--sklearn-color-background);\n",
              "  text-decoration: none;\n",
              "}\n",
              "\n",
              "#sk-container-id-1 a.estimator_doc_link.fitted:hover {\n",
              "  /* fitted */\n",
              "  background-color: var(--sklearn-color-fitted-level-3);\n",
              "}\n",
              "</style><div id=\"sk-container-id-1\" class=\"sk-top-container\"><div class=\"sk-text-repr-fallback\"><pre>MultinomialNB()</pre><b>In a Jupyter environment, please rerun this cell to show the HTML representation or trust the notebook. <br />On GitHub, the HTML representation is unable to render, please try loading this page with nbviewer.org.</b></div><div class=\"sk-container\" hidden><div class=\"sk-item\"><div class=\"sk-estimator fitted sk-toggleable\"><input class=\"sk-toggleable__control sk-hidden--visually\" id=\"sk-estimator-id-1\" type=\"checkbox\" checked><label for=\"sk-estimator-id-1\" class=\"sk-toggleable__label fitted sk-toggleable__label-arrow fitted\">&nbsp;&nbsp;MultinomialNB<a class=\"sk-estimator-doc-link fitted\" rel=\"noreferrer\" target=\"_blank\" href=\"https://scikit-learn.org/1.5/modules/generated/sklearn.naive_bayes.MultinomialNB.html\">?<span>Documentation for MultinomialNB</span></a><span class=\"sk-estimator-doc-link fitted\">i<span>Fitted</span></span></label><div class=\"sk-toggleable__content fitted\"><pre>MultinomialNB()</pre></div> </div></div></div></div>"
            ],
            "text/plain": [
              "MultinomialNB()"
            ]
          },
          "execution_count": 23,
          "metadata": {},
          "output_type": "execute_result"
        }
      ],
      "source": [
        "# es muy fácil instanciar un modelo de clasificación Naïve Bayes y entrenarlo con sklearn\n",
        "clf = MultinomialNB()\n",
        "clf.fit(X_train, y_train)"
      ]
    },
    {
      "cell_type": "code",
      "execution_count": 24,
      "metadata": {
        "id": "NrQjzM48Mu4T"
      },
      "outputs": [],
      "source": [
        "# con nuestro vectorizador ya fiteado en train, vectorizamos los textos\n",
        "# del conjunto de test\n",
        "X_test = tfidfvect.transform(newsgroups_test.data)\n",
        "y_test = newsgroups_test.target\n",
        "y_pred =  clf.predict(X_test)"
      ]
    },
    {
      "cell_type": "code",
      "execution_count": 25,
      "metadata": {
        "colab": {
          "base_uri": "https://localhost:8080/"
        },
        "id": "UkGJhetEPdA4",
        "outputId": "232ee2ce-e904-466e-be57-babc1f319029"
      },
      "outputs": [
        {
          "data": {
            "text/plain": [
              "np.float64(0.5854345727938506)"
            ]
          },
          "execution_count": 25,
          "metadata": {},
          "output_type": "execute_result"
        }
      ],
      "source": [
        "# el F1-score es una metrica adecuada para reportar desempeño de modelos de claificación\n",
        "# es robusta al desbalance de clases. El promediado 'macro' es el promedio de los\n",
        "# F1-score de cada clase. El promedio 'micro' es equivalente a la accuracy que no\n",
        "# es una buena métrica cuando los datasets son desbalanceados\n",
        "f1_score(y_test, y_pred, average='macro')"
      ]
    },
    {
      "cell_type": "markdown",
      "metadata": {
        "id": "McArD4rSDR2K"
      },
      "source": [
        "### Consigna del desafío 1"
      ]
    },
    {
      "cell_type": "markdown",
      "metadata": {
        "id": "lJgf6GQIIEH1"
      },
      "source": [
        "**1**. Vectorizar documentos. Tomar 5 documentos al azar y medir similaridad con el resto de los documentos.\n",
        "Estudiar los 5 documentos más similares de cada uno analizar si tiene sentido\n",
        "la similaridad según el contenido del texto y la etiqueta de clasificación.\n",
        "\n",
        "**2**. Entrenar modelos de clasificación Naïve Bayes para maximizar el desempeño de clasificación\n",
        "(f1-score macro) en el conjunto de datos de test. Considerar cambiar parámteros\n",
        "de instanciación del vectorizador y los modelos y probar modelos de Naïve Bayes Multinomial\n",
        "y ComplementNB.\n",
        "\n",
        "**3**. Transponer la matriz documento-término. De esa manera se obtiene una matriz\n",
        "término-documento que puede ser interpretada como una colección de vectorización de palabras.\n",
        "Estudiar ahora similaridad entre palabras tomando 5 palabras y estudiando sus 5 más similares. **La elección de palabras no debe ser al azar para evitar la aparición de términos poco interpretables, elegirlas \"manualmente\"**.\n"
      ]
    },
    {
      "cell_type": "code",
      "execution_count": 2,
      "metadata": {},
      "outputs": [],
      "source": [
        "newsgroups_train = fetch_20newsgroups(subset='train', remove=('headers', 'footers', 'quotes'))\n",
        "newsgroups_test = fetch_20newsgroups(subset='test', remove=('headers', 'footers', 'quotes'))\n",
        "\n",
        "tfidfvect = TfidfVectorizer()\n",
        "\n",
        "X_train = tfidfvect.fit_transform(newsgroups_train.data)\n",
        "\n",
        "y_train = newsgroups_train.target\n",
        "\n",
        "idx2word = {v: k for k,v in tfidfvect.vocabulary_.items()}"
      ]
    },
    {
      "cell_type": "markdown",
      "metadata": {},
      "source": [
        "#### Ejercicio 1"
      ]
    },
    {
      "cell_type": "code",
      "execution_count": 65,
      "metadata": {},
      "outputs": [],
      "source": [
        "def find_most_similar(input_idx, n=5):\n",
        "\n",
        "    cossim = cosine_similarity(X_train[input_idx], X_train)[0]\n",
        "\n",
        "    most_similar_values = np.sort(cossim)[::-1][1:n+1]\n",
        "    n_most_similar_doc = np.argsort(cossim)[::-1][1:n+1]\n",
        "\n",
        "    sim_data = {int(sim_idx): \n",
        "                {'class' : newsgroups_train.target_names[y_train[sim_idx]],\n",
        "                 'sim_value': most_similar_values[it],\n",
        "                 'doc': newsgroups_train.data[sim_idx]}\n",
        "                 for it, sim_idx in enumerate(n_most_similar_doc)}\n",
        "    \n",
        "    sim_data[input_idx] = {'class' : newsgroups_train.target_names[y_train[input_idx]],\n",
        "                           'sim_value': 1,\n",
        "                           'doc': newsgroups_train.data[input_idx]}\n",
        "    \n",
        "    return sim_data\n",
        "\n",
        "\n",
        "def plot_most_similar(data):\n",
        "    # Extraer las claves y los valores de 'sim_value' y 'class'\n",
        "    keys = [key for key in data.keys() if data[key]['sim_value']<1]\n",
        "    sim_values = [data[key]['sim_value'] for key in keys if data[key]['sim_value']<1]\n",
        "    classes = [data[key]['class'] for key in keys if data[key]['sim_value']<1]\n",
        "\n",
        "    # Crear un color para cada clase\n",
        "    unique_classes = list(set(classes))\n",
        "    colors = plt.cm.get_cmap('tab10', len(unique_classes))\n",
        "\n",
        "    # Asignar un color a cada punto según su clase\n",
        "    class_to_color = {cls: colors(i) for i, cls in enumerate(unique_classes)}\n",
        "\n",
        "    # Crear el gráfico\n",
        "    plt.figure(figsize=(10, 6))\n",
        "\n",
        "    # Dibujar los puntos\n",
        "    for i, key in enumerate(keys):\n",
        "        plt.scatter(i, sim_values[i], color=class_to_color[classes[i]], label=classes[i])\n",
        "\n",
        "    # Crear una leyenda única\n",
        "    handles, labels = plt.gca().get_legend_handles_labels()\n",
        "    by_label = dict(zip(labels, handles))\n",
        "    plt.legend(by_label.values(), by_label.keys(), title=\"Classes\", loc='best')\n",
        "\n",
        "    # Añadir etiquetas y título\n",
        "    plt.xlabel('ID')\n",
        "    plt.ylabel('Similarity Value')\n",
        "    plt.title('Similarity Values by ID and Class')\n",
        "\n",
        "    # Mostrar el gráfico\n",
        "    plt.grid(True)\n",
        "    plt.show()\n",
        "\n",
        "\n",
        "def display_first_n_words(data, n = 30):\n",
        "    for key, value in data.items():\n",
        "        doc = value['doc']\n",
        "        first_n_words = ' '.join(doc.split()[:n+1])\n",
        "        formatted_text = textwrap.fill(first_n_words, width=70)\n",
        "\n",
        "        if data[key]['sim_value']==1:\n",
        "            print('### ORIGINAL ###')\n",
        "        print(f\"Document ID: {key}\\nClass: {value['class']}\\nSimilarity Value: {value['sim_value']:.2f}\\nText Preview:\\n{formatted_text}\\n{'-'*80}\")\n",
        "\n"
      ]
    },
    {
      "cell_type": "code",
      "execution_count": 62,
      "metadata": {},
      "outputs": [
        {
          "data": {
            "text/plain": [
              "[7492, 3546, 5582, 4793, 3813]"
            ]
          },
          "execution_count": 62,
          "metadata": {},
          "output_type": "execute_result"
        }
      ],
      "source": [
        "# Creamos una lista de 5 documentos al azar:\n",
        "np.random.seed(42)\n",
        "indices = np.random.choice(X_train.shape[0], 5, replace=False).tolist()\n",
        "\n",
        "indices"
      ]
    },
    {
      "cell_type": "code",
      "execution_count": 69,
      "metadata": {},
      "outputs": [
        {
          "name": "stderr",
          "output_type": "stream",
          "text": [
            "/tmp/ipykernel_9602/1039797579.py:29: MatplotlibDeprecationWarning: The get_cmap function was deprecated in Matplotlib 3.7 and will be removed in 3.11. Use ``matplotlib.colormaps[name]`` or ``matplotlib.colormaps.get_cmap()`` or ``pyplot.get_cmap()`` instead.\n",
            "  colors = plt.cm.get_cmap('tab10', len(unique_classes))\n"
          ]
        },
        {
          "data": {
            "image/png": "[encoded data removed]",
            "text/plain": [
              "<Figure size 1000x600 with 1 Axes>"
            ]
          },
          "metadata": {},
          "output_type": "display_data"
        },
        {
          "name": "stdout",
          "output_type": "stream",
          "text": [
            "Document ID: 10935\n",
            "Class: comp.sys.mac.hardware\n",
            "Similarity Value: 0.67\n",
            "Text Preview:\n",
            "Hey everybody: I want to buy a mac and I want to get a good\n",
            "price...who doesn't? So, could anyone out there who has found a really\n",
            "good deal on a Centris 650 send me the price. I don't want to know\n",
            "where, unless it is mail order or areound cleveland,\n",
            "--------------------------------------------------------------------------------\n",
            "Document ID: 7258\n",
            "Class: comp.sys.ibm.pc.hardware\n",
            "Similarity Value: 0.35\n",
            "Text Preview:\n",
            "Hay all: Has anyone out there heard of any performance stats on the\n",
            "fabled p24t. I was wondering what it's performance compared to the\n",
            "486/66 and/or pentium would be. Any info would be helpful. Later BoB\n",
            "-- Robert Novitskey | rrn@po.cwru.edu | (216)754-2134 | CWRU Cleve.\n",
            "Ohio\n",
            "----------------------------------------------------------------------\n",
            "COMPUTER ENGINEER AND\n",
            "--------------------------------------------------------------------------------\n",
            "Document ID: 4971\n",
            "Class: comp.sys.mac.hardware\n",
            "Similarity Value: 0.18\n",
            "Text Preview:\n",
            "Could someone please send instructions for installing simms and vram\n",
            "to jmk13@po.cwru.edu? He's just gotten his 700 and wants to drop in\n",
            "some extra simms and vram that he has for it.\n",
            "--------------------------------------------------------------------------------\n",
            "Document ID: 4303\n",
            "Class: misc.forsale\n",
            "Similarity Value: 0.15\n",
            "Text Preview:\n",
            "For sale: Roland D-50: $700 or best offer. Excellent condition.\n",
            "Includes over 1000 patches on disk (In cakewalk sysex format) Buyer\n",
            "must pay COD shipping. Please e-mail responses to: gms2@po.cwru.edu\n",
            "Thanks. George\n",
            "--------------------------------------------------------------------------------\n",
            "Document ID: 645\n",
            "Class: comp.sys.mac.hardware\n",
            "Similarity Value: 0.14\n",
            "Text Preview:\n",
            "I'd appreciate it greatly if someone could E-mail me the following:\n",
            "(if you only know one, that's fine) 1) Specs for the 68040 (esp. how\n",
            "it compares to the Pentium) 2) Specs for the 68060 with estimated\n",
            "cost, release date, etc... I'm interested in speeds, systems it can\n",
            "run (Windows NT,\n",
            "--------------------------------------------------------------------------------\n",
            "### ORIGINAL ###\n",
            "Document ID: 7492\n",
            "Class: comp.sys.mac.hardware\n",
            "Similarity Value: 1.00\n",
            "Text Preview:\n",
            "Could someone please post any info on these systems. Thanks. BoB --\n",
            "----------------------------------------------------------------------\n",
            "Robert Novitskey | \"Pursuing women is similar to banging one's head\n",
            "rrn@po.cwru.edu | against a wall...with less opportunity for reward\"\n",
            "--------------------------------------------------------------------------------\n"
          ]
        }
      ],
      "source": [
        "''' \n",
        "Documento 1 (7492): \n",
        "- Clase original: comp.sys.mac.hardware\n",
        "- Los mas similares pertenecen a las clases: comp.sys.mac.hardware, comp.sys.ibm.pc.hardware y misc.forsale\n",
        "- Se observa que todos los textos hablan de algun tipo de hardware\n",
        "'''\n",
        "\n",
        "data = find_most_similar(indices[0])\n",
        "\n",
        "plot_most_similar(data = data)\n",
        "\n",
        "display_first_n_words(data = data, n = 50)"
      ]
    },
    {
      "cell_type": "code",
      "execution_count": 70,
      "metadata": {},
      "outputs": [
        {
          "name": "stderr",
          "output_type": "stream",
          "text": [
            "/tmp/ipykernel_9602/1039797579.py:29: MatplotlibDeprecationWarning: The get_cmap function was deprecated in Matplotlib 3.7 and will be removed in 3.11. Use ``matplotlib.colormaps[name]`` or ``matplotlib.colormaps.get_cmap()`` or ``pyplot.get_cmap()`` instead.\n",
            "  colors = plt.cm.get_cmap('tab10', len(unique_classes))\n"
          ]
        },
        {
          "data": {
            "image/png": "[encoded data removed]",
            "text/plain": [
              "<Figure size 1000x600 with 1 Axes>"
            ]
          },
          "metadata": {},
          "output_type": "display_data"
        },
        {
          "name": "stdout",
          "output_type": "stream",
          "text": [
            "Document ID: 5665\n",
            "Class: comp.sys.ibm.pc.hardware\n",
            "Similarity Value: 0.20\n",
            "Text Preview:\n",
            "By initiating a DMA xfer. :) Seriously, busmastering adapter have\n",
            "their own DMA ability, they don't use the motherboards on-board\n",
            "DMA(which is *MUCH* slower). ISA has no bus arbitration, so if two\n",
            "busmastering cards in 1 ISA system try to do DMA xfers on the same DMA\n",
            "channel the system will lock or crash.(I forget) Their are 8 DMA\n",
            "channels in an ISA system. 0-7. 0-3 are 8-bit & 4-7 are 16-bit. The\n",
            "system uses DMA 0, a SoundBlaster uses DMA 1. I could buy a\n",
            "busmastering XGA-2 video card & a busmastering SCSI HA. In order for\n",
            "them to work\n",
            "--------------------------------------------------------------------------------\n",
            "Document ID: 2011\n",
            "Class: comp.sys.ibm.pc.hardware\n",
            "Similarity Value: 0.19\n",
            "Text Preview:\n",
            "IDE also uses DMA techniques. I believe floppy controller also uses\n",
            "DMA, and most A/D boards also use DMA. DMA is no big deal, and has\n",
            "nothing to do directly with SCSI. You can thank your software for\n",
            "that. If DOS had a few more brains, it could format floppies etc.\n",
            "while you were doing something else. The hardware will support it, but\n",
            "DOS (at least) won't. Again, this has nothing to do with SCSI. And if\n",
            "you stick with DOS you'll wonder why you can't multitask.\n",
            "--------------------------------------------------------------------------------\n",
            "Document ID: 8643\n",
            "Class: comp.sys.ibm.pc.hardware\n",
            "Similarity Value: 0.17\n",
            "Text Preview:\n",
            "There would be no problems as long as the OS didn't set up a DMA\n",
            "transfer to an area above the 16 mb area (the DMA controller probably\n",
            "can't be programmed that way anyways, so there probably isin't a\n",
            "problem with this)\n",
            "--------------------------------------------------------------------------------\n",
            "Document ID: 1546\n",
            "Class: comp.sys.ibm.pc.hardware\n",
            "Similarity Value: 0.17\n",
            "Text Preview:\n",
            "Here's a document that I wrote some time back. It's slightly out-of-\n",
            "date, now that DOS 6 has been released, but much of it is still\n",
            "useful. -- Darryl Okahata Internet: darrylo@sr.hp.com DISCLAIMER: this\n",
            "message is the author's personal opinion and does not constitute the\n",
            "support, opinion or policy of Hewlett-Packard or of the little green\n",
            "men that have been following him all day. ============================\n",
            "=================================================== $Id: adaptec.txt\n",
            "1.8 1993/01/25 00:55:08 darrylo Rel darrylo $ Hints and Tips for the\n",
            "Adaptec 1540/1542 SCSI adapter This document contains hints and tips\n",
            "for getting the Adaptec 1540/1542 SCSI adapter to work with various\n",
            "hardware and\n",
            "--------------------------------------------------------------------------------\n",
            "Document ID: 8765\n",
            "Class: comp.sys.ibm.pc.hardware\n",
            "Similarity Value: 0.16\n",
            "Text Preview:\n",
            "The floppy is served by DMA on the motherboard, and original DMA-\n",
            "controller can't reach more than the first 16MB (The address-space of\n",
            "the ISA-bus) joerg\n",
            "--------------------------------------------------------------------------------\n",
            "### ORIGINAL ###\n",
            "Document ID: 3546\n",
            "Class: comp.os.ms-windows.misc\n",
            "Similarity Value: 1.00\n",
            "Text Preview:\n",
            "Don't bother if you have CPBackup or Fastback. They all offer options\n",
            "not available in the stripped-down MS version (FROM CPS!). Examples -\n",
            "no proprietary format (to save space), probably no direct DMA access,\n",
            "and no tape drive!\n",
            "--------------------------------------------------------------------------------\n"
          ]
        }
      ],
      "source": [
        "''' \n",
        "Documento 2 (3546): \n",
        "- Clase original: comp.os.ms-windows.misc\n",
        "- Todos los documentos pertenecen a: comp.sys.ibm.pc.hardware\n",
        "- Llama la atencion que todos los mas similares sean de una clase distinta a la original. \n",
        "- Al analizar los textos se nota que todos hablan de hardware con bastante profundidad tecnica. \n",
        "\n",
        "'''\n",
        "\n",
        "data = find_most_similar(indices[1])\n",
        "\n",
        "plot_most_similar(data = data)\n",
        "\n",
        "display_first_n_words(data = data, n = 100)"
      ]
    },
    {
      "cell_type": "code",
      "execution_count": 67,
      "metadata": {},
      "outputs": [
        {
          "name": "stderr",
          "output_type": "stream",
          "text": [
            "/tmp/ipykernel_9602/1039797579.py:29: MatplotlibDeprecationWarning: The get_cmap function was deprecated in Matplotlib 3.7 and will be removed in 3.11. Use ``matplotlib.colormaps[name]`` or ``matplotlib.colormaps.get_cmap()`` or ``pyplot.get_cmap()`` instead.\n",
            "  colors = plt.cm.get_cmap('tab10', len(unique_classes))\n"
          ]
        },
        {
          "data": {
            "image/png": "[encoded data removed]",
            "text/plain": [
              "<Figure size 1000x600 with 1 Axes>"
            ]
          },
          "metadata": {},
          "output_type": "display_data"
        },
        {
          "name": "stdout",
          "output_type": "stream",
          "text": [
            "Document ID: 5510\n",
            "Class: misc.forsale\n",
            "Similarity Value: 0.46\n",
            "Text Preview:\n",
            "I am looking for a 286 motherboard, preferable 12 or 16, 640k or 1 meg\n",
            "RAM. I am also looking for a VGA card. Am willing to trade 1200\n",
            "external, 5.25\" LD Drive, 8088 motherboard, monochrome monitor, Game\n",
            "Boy, in some combination for the above. Libertarian, atheist, semi-\n",
            "anarchal Techno-Rat.\n",
            "--------------------------------------------------------------------------------\n",
            "Document ID: 4922\n",
            "Class: misc.forsale\n",
            "Similarity Value: 0.30\n",
            "Text Preview:\n",
            "For sale: Nintendo Game Boy, Tetris, Castlevania Adventure, All-Star\n",
            "Challenge, Nemesis, Play-Action football, link cable. Make me an\n",
            "offer. Libertarian, atheist, semi-anarchal Techno-Rat.\n",
            "--------------------------------------------------------------------------------\n",
            "Document ID: 4347\n",
            "Class: comp.graphics\n",
            "Similarity Value: 0.27\n",
            "Text Preview:\n",
            "It's really not that hard to do. There are books out there which\n",
            "explain everything, and the basic 3D functions, translation, rotation,\n",
            "shading, and hidden line removal are pretty easy. I wrote a program in\n",
            "a few weeks witht he help of a book, and would be happy to give you my\n",
            "source. Also, Quickdraw has a lot of 3D functions built in, and Think\n",
            "pascal can access them, and I would expect that THINK C could as well.\n",
            "If you can find out how to use the Quickdraw graphics library, it\n",
            "would be an excellent choice, since it has a\n",
            "--------------------------------------------------------------------------------\n",
            "Document ID: 8057\n",
            "Class: misc.forsale\n",
            "Similarity Value: 0.21\n",
            "Text Preview:\n",
            "Hello, I have a motherboard and a case for sale as a package. Both of\n",
            "them came from a CompuAdd computer I bought last August and am\n",
            "presently upgrading. Here are the specs-- Motherboard -----------\n",
            "Cyrix 486SL 25 MHz microprocessor Chips and Technology chipset (SCATsx\n",
            "V2.3.6 SLSLC) 8 SIMM banks for a maximum of 32 Megs of RAM BUILT-IN\n",
            "Floppy and Hard Drive Controllers BUILT-IN ports--1 Parallel, 2 Serial\n",
            "(9 and 25 pin) BUILT-IN Paradise SVGA controller with 1 meg of RAM\n",
            "(Windows drivers inc.) -can do up to 1024x768 @ 256 colors -based on\n",
            "the Western Digital WD90C31 chip Math\n",
            "--------------------------------------------------------------------------------\n",
            "Document ID: 4028\n",
            "Class: comp.graphics\n",
            "Similarity Value: 0.17\n",
            "Text Preview:\n",
            "Hello, and thank you for reading this request. I have a Mpeg viewer\n",
            "for x-windows and it did not run because I was running it on a\n",
            "monochrome monitor. I need the mono-driver for mpeg_play.\n",
            "--------------------------------------------------------------------------------\n",
            "### ORIGINAL ###\n",
            "Document ID: 5582\n",
            "Class: misc.forsale\n",
            "Similarity Value: 1.00\n",
            "Text Preview:\n",
            "5.25\" Internal Low density disk drive. Monochrome monitor 8088\n",
            "motherboard, built in parallel and serial ports, built in mono and\n",
            "color output, 7Mhz. Libertarian, atheist, semi-anarchal Techno-Rat.\n",
            "--------------------------------------------------------------------------------\n"
          ]
        }
      ],
      "source": [
        "''' \n",
        "Documento 3 (5582):\n",
        " - Clase original: misc.forsale\n",
        " - Los documentos con mayor similaridad pertenecen a dos clases: misc.forsale y comp.graphics\n",
        " - Al analizar los textos de cada documento, se aprecia que todos hablan de hardware\n",
        " - Llama la atencion que en tres textos se observa la frase: \"Libertarian, atheist, semi-\n",
        "anarchal Techno-Rat\", por lo que probablemente todas estos documentos hayan sido escritos por un mismo\n",
        "usuario. (incluso el original)\n",
        "\n",
        "\n",
        "'''\n",
        "\n",
        "data = find_most_similar(indices[2])\n",
        "\n",
        "plot_most_similar(data = data)\n",
        "\n",
        "display_first_n_words(data = data, n = 100)\n"
      ]
    },
    {
      "cell_type": "code",
      "execution_count": 71,
      "metadata": {},
      "outputs": [
        {
          "name": "stderr",
          "output_type": "stream",
          "text": [
            "/tmp/ipykernel_9602/1039797579.py:29: MatplotlibDeprecationWarning: The get_cmap function was deprecated in Matplotlib 3.7 and will be removed in 3.11. Use ``matplotlib.colormaps[name]`` or ``matplotlib.colormaps.get_cmap()`` or ``pyplot.get_cmap()`` instead.\n",
            "  colors = plt.cm.get_cmap('tab10', len(unique_classes))\n"
          ]
        },
        {
          "data": {
            "image/png": "[encoded data removed]",
            "text/plain": [
              "<Figure size 1000x600 with 1 Axes>"
            ]
          },
          "metadata": {},
          "output_type": "display_data"
        },
        {
          "name": "stdout",
          "output_type": "stream",
          "text": [
            "Document ID: 6894\n",
            "Class: talk.politics.guns\n",
            "Similarity Value: 0.24\n",
            "Text Preview:\n",
            "Here is a press release from the White House. President Clinton's\n",
            "Remarks On Waco With Q/A To: National Desk Contact: White House Office\n",
            "of the Press Secretary, 202-456-2100 WASHINGTON, April 20 -- Following\n",
            "are remarks by President Clinton in a question and answer session with\n",
            "the press: 1:36 P.M. EDT THE PRESIDENT: On February the 28th, four\n",
            "federal agents were killed in the line of duty trying to enforce the\n",
            "law against the Branch Davidian compound, which had illegally\n",
            "stockpiled weaponry and ammunition, and placed innocent children at\n",
            "risk. Because the BATF operation had failed to meet its objective, a\n",
            "51-day\n",
            "--------------------------------------------------------------------------------\n",
            "Document ID: 5856\n",
            "Class: sci.crypt\n",
            "Similarity Value: 0.24\n",
            "Text Preview:\n",
            "Thanks for posting this and making it available. This post will be\n",
            "LONG, I will comment on most of it, and am reluctantly leaving all of\n",
            "the original in place to provide context. Please note that an alt.\n",
            "group has been set up for the Clipper stuff. ^^^^^^^^^ Hum, AT&T, VLSI\n",
            "and Mykotronx are 'industry'? Wonder what happened to IBM, this should\n",
            "be right up their street. And a mandateed scheme is voluntary? Mr\n",
            "Orwell would love this. ^^^^^^^^^ Telephone encryption and scrambleing\n",
            "are years behind digital ones like RSA, IDEA, or even DES. The above,\n",
            "while literaly true, is a\n",
            "--------------------------------------------------------------------------------\n",
            "Document ID: 4271\n",
            "Class: talk.politics.misc\n",
            "Similarity Value: 0.23\n",
            "Text Preview:\n",
            "THE WHITE HOUSE Office of the Press Secretary\n",
            "______________________________________________________________ For\n",
            "Immediate Release April 13, 1993 REMARKS BY THE PRESIDENT, SECRETARY\n",
            "OF EDUCATION RICHARD RILEY AND SECRETARY OF LABOR ROBERT REICH IN\n",
            "GOALS 2000 SATELLITE TOWN HALL MEETING Chamber of Commerce Building\n",
            "Washington, D.C. 8:30 P.M. EDT SECRETARY RILEY: Good evening and\n",
            "welcome to all of you in the thousands of communities around the\n",
            "country that are taking part in this satellite town meeting for the\n",
            "month of April. You know, today is April 13th. In 1743, Thomas\n",
            "Jefferson was born, 250 years ago. I think that's appropriate to\n",
            "mention at the\n",
            "--------------------------------------------------------------------------------\n",
            "Document ID: 3141\n",
            "Class: talk.politics.guns\n",
            "Similarity Value: 0.23\n",
            "Text Preview:\n",
            "Mr. Parsli, I have to take exception at this. There are verifiable,\n",
            "previous *examples* of levels of U.S. governments abusing gun-control\n",
            "restrictions. I don't think it is paranoid to worry that what has been\n",
            "abused in the recent past might be abused in thye future. After so\n",
            "many times of getting burned any sane person will stop putting his\n",
            "hand on the stove. I'd love to. But as long as the politicians grab\n",
            "power to sell pork back to their constituents, there's not a lot I can\n",
            "do. It's silly to suggest that if there's anything we can't trust the\n",
            "government\n",
            "--------------------------------------------------------------------------------\n",
            "Document ID: 10836\n",
            "Class: alt.atheism\n",
            "Similarity Value: 0.23\n",
            "Text Preview:\n",
            "Archive-name: atheism/faq Alt-atheism-archive-name: faq Last-modified:\n",
            "5 April 1993 Version: 1.1 Alt.Atheism Frequently-Asked Questions This\n",
            "file contains responses to articles which occur repeatedly in\n",
            "alt.atheism. Points covered here are ones which are not covered in the\n",
            "\"Introduction to Atheism\"; you are advised to read that article as\n",
            "well before posting. These answers are not intended to be exhaustive\n",
            "or definitive. The purpose of the periodic FAQ postings is not to\n",
            "stifle debate, but to raise its level. If you have something to say\n",
            "concerning one of these questions and which isn't covered by the\n",
            "answer given, please feel free to make your\n",
            "--------------------------------------------------------------------------------\n",
            "### ORIGINAL ###\n",
            "Document ID: 4793\n",
            "Class: talk.politics.guns\n",
            "Similarity Value: 1.00\n",
            "Text Preview:\n",
            "Hi, In Canada, any gun that enters a National Park must be sealed (I\n",
            "think it's a small metal tag that's placed over the trigger). The net\n",
            "result of this is that you _can't_ use a gun to protect yourself from\n",
            "bears (or psychos) in the National Parks. Instead, one has to be\n",
            "sensitive to the dangers and annoyances of hiking in bear country, and\n",
            "take the appropriate precautions. I think this policy makes the users\n",
            "of the National Parks feel a little closer to Nature, that they are a\n",
            "part of Nature and, as such, have to deal with nature\n",
            "--------------------------------------------------------------------------------\n"
          ]
        }
      ],
      "source": [
        "''' \n",
        "Documento 4 (4793): \n",
        "- Clase original: talk.politics.guns\n",
        "- Clases de los mas similares: talk.politics.guns, sci.crypt, talk.politics.misc y alt.atheism\n",
        "- Se observa que presentan muchas clases distintas pero todos los textos estan relacionados a temas serios que suelen escribirse de forma similar,\n",
        "por lo tanto, aun cuando las clases son distintas, que se los tome como textos similares tiene sentido. \n",
        "'''\n",
        "\n",
        "data = find_most_similar(indices[3])\n",
        "\n",
        "plot_most_similar(data = data)\n",
        "\n",
        "display_first_n_words(data = data, n = 100)"
      ]
    },
    {
      "cell_type": "code",
      "execution_count": 76,
      "metadata": {},
      "outputs": [
        {
          "name": "stderr",
          "output_type": "stream",
          "text": [
            "/tmp/ipykernel_9602/1039797579.py:29: MatplotlibDeprecationWarning: The get_cmap function was deprecated in Matplotlib 3.7 and will be removed in 3.11. Use ``matplotlib.colormaps[name]`` or ``matplotlib.colormaps.get_cmap()`` or ``pyplot.get_cmap()`` instead.\n",
            "  colors = plt.cm.get_cmap('tab10', len(unique_classes))\n"
          ]
        },
        {
          "data": {
            "image/png": "[encoded data removed]",
            "text/plain": [
              "<Figure size 1000x600 with 1 Axes>"
            ]
          },
          "metadata": {},
          "output_type": "display_data"
        },
        {
          "name": "stdout",
          "output_type": "stream",
          "text": [
            "Document ID: 10836\n",
            "Class: alt.atheism\n",
            "Similarity Value: 0.25\n",
            "Text Preview:\n",
            "Archive-name: atheism/faq Alt-atheism-archive-name: faq Last-modified:\n",
            "5 April 1993 Version: 1.1 Alt.Atheism Frequently-Asked Questions This\n",
            "file contains responses to articles which occur repeatedly in\n",
            "alt.atheism. Points covered here are ones which are not covered in the\n",
            "\"Introduction to Atheism\"; you are advised to read that article as\n",
            "well before posting. These answers are not intended to be exhaustive\n",
            "or definitive. The purpose of the periodic FAQ postings is not to\n",
            "stifle debate, but to raise its level. If you have something to say\n",
            "concerning one of these questions and which isn't covered by the\n",
            "answer given, please feel free to make your\n",
            "--------------------------------------------------------------------------------\n",
            "Document ID: 759\n",
            "Class: soc.religion.christian\n",
            "Similarity Value: 0.25\n",
            "Text Preview:\n",
            "Oh contrer mon captitan! There is a way. Certainly it is not by human\n",
            "reason. Certainly it is not by human experience. (and yet it is both!)\n",
            "To paraphrase Sartre, the particular is absurd unless it has an\n",
            "infinite reference point. It is only because of God's own revelation\n",
            "that we can be absolute about a thing. Your logic comes to fruition in\n",
            "relativism. Ah, now it is clear. Ludwig was a desciple of Russell.\n",
            "Ludwig's fame is often explained by the fact that he spawned not one\n",
            "but two significant movements in contemporary philosophy. Both revolve\n",
            "around Tractatus Logico-Philosphicus ('21)\n",
            "--------------------------------------------------------------------------------\n",
            "Document ID: 913\n",
            "Class: alt.atheism\n",
            "Similarity Value: 0.24\n",
            "Text Preview:\n",
            "The recent rise of nostalgia in this group, combined with the\n",
            "incredible level of utter bullshit, has prompted me to comb through my\n",
            "archives and pull out some of \"The Best of Alt.Atheism\" for your\n",
            "reading pleasure. I'll post a couple of these a day unless group\n",
            "concensus demands that I stop, or I run out of good material. I\n",
            "haven't been particularly careful in the past about saving\n",
            "attributions. I think the following comes from John A. Johnson, but\n",
            "someone correct me if I'm wrong. This is probably the longest of my\n",
            "entire collection.\n",
            "________________________________________________________ So that the\n",
            "Prophecy be\n",
            "--------------------------------------------------------------------------------\n",
            "Document ID: 5826\n",
            "Class: soc.religion.christian\n",
            "Similarity Value: 0.24\n",
            "Text Preview:\n",
            "A listmember (D Andrew Killie, I think) wrote, in response to the\n",
            "suggestion that genocide may sometimes be the will of God: > Any God\n",
            "who works that way is indescribably evil, > and unworthy of my worship\n",
            "or faith. Nobuya \"Higgy\" Higashiyama replied (as, in substance, did\n",
            "others): > Where is your source of moral standards by which you judge\n",
            "God's > behavior? It is often argued that we have no standing by which\n",
            "to judge God's actions. Who is the clay to talk back to the potter?\n",
            "But we find a contrary view in Scripture. When God proposes to\n",
            "--------------------------------------------------------------------------------\n",
            "Document ID: 5856\n",
            "Class: sci.crypt\n",
            "Similarity Value: 0.23\n",
            "Text Preview:\n",
            "Thanks for posting this and making it available. This post will be\n",
            "LONG, I will comment on most of it, and am reluctantly leaving all of\n",
            "the original in place to provide context. Please note that an alt.\n",
            "group has been set up for the Clipper stuff. ^^^^^^^^^ Hum, AT&T, VLSI\n",
            "and Mykotronx are 'industry'? Wonder what happened to IBM, this should\n",
            "be right up their street. And a mandateed scheme is voluntary? Mr\n",
            "Orwell would love this. ^^^^^^^^^ Telephone encryption and scrambleing\n",
            "are years behind digital ones like RSA, IDEA, or even DES. The above,\n",
            "while literaly true, is a\n",
            "--------------------------------------------------------------------------------\n",
            "### ORIGINAL ###\n",
            "Document ID: 3813\n",
            "Class: rec.sport.hockey\n",
            "Similarity Value: 1.00\n",
            "Text Preview:\n",
            "Doesn't it also have the Statue of Liberty on it or is that Richter's\n",
            "Mask? The back actually has a Bee followed by a Z to represent the\n",
            "Beezer. It also has something that looks like the three\n",
            "interconnecting circles from the Led Zepplin 4 album cover. Is that\n",
            "what it is supposed to be? and if it is does anybody know why he would\n",
            "put it there? Ali? John \"The official Language of Golf is Profanity\"\n",
            "--------------------------------------------------------------------------------\n"
          ]
        }
      ],
      "source": [
        "''' \n",
        "Documento 5 (3813): \n",
        "- Clase original: rec.sport.hockey\n",
        "- Clases cercanas: alt.atheism, soc.religion.christian y sci.crypt\n",
        "- En este caso las clases son muy diferentes con la clase original pero se observa que incluye la frase: \"The official Language of Golf is Profanity\".\n",
        "La cual al incluir la palabra Profanity puede ser que este haciendo que los documentos mas cercanos sean de religion/ateismo y no de deporte. \n",
        "'''\n",
        "\n",
        "data = find_most_similar(indices[4])\n",
        "\n",
        "plot_most_similar(data = data)\n",
        "\n",
        "display_first_n_words(data = data, n = 100)"
      ]
    },
    {
      "cell_type": "markdown",
      "metadata": {},
      "source": [
        "#### Ejercicio 2\n",
        "\n",
        "Entrenar modelos de clasificación Naïve Bayes para maximizar el desempeño de clasificación\n",
        "(f1-score macro) en el conjunto de datos de test. Considerar cambiar parámteros\n",
        "de instanciación del vectorizador y los modelos y probar modelos de Naïve Bayes Multinomial\n",
        "y ComplementNB."
      ]
    },
    {
      "cell_type": "code",
      "execution_count": 48,
      "metadata": {},
      "outputs": [
        {
          "name": "stdout",
          "output_type": "stream",
          "text": [
            "Max F1 score is: 0.6534497959493145 with max_df = 0.03\n"
          ]
        },
        {
          "data": {
            "image/png": "[encoded data removed]",
            "text/plain": [
              "<Figure size 640x480 with 1 Axes>"
            ]
          },
          "metadata": {},
          "output_type": "display_data"
        }
      ],
      "source": [
        "newsgroups_train = fetch_20newsgroups(subset='train', remove=('headers', 'footers', 'quotes'))\n",
        "newsgroups_test = fetch_20newsgroups(subset='test', remove=('headers', 'footers', 'quotes'))\n",
        "\n",
        "# De acuerdo a la documentacion: \n",
        "# max_df: When building the vocabulary ignore terms that have a document frequency strictly higher than the given threshold \n",
        "# Variamos este parametro y vemos como cambia F1:\n",
        "f1_list = []\n",
        "max_df_list = list(np.arange(0.01, 0.8, 0.01))\n",
        "for max_df in max_df_list:\n",
        "    # Probamos eliminando las palabras con muy alta frecuencia\n",
        "    tfidfvect = TfidfVectorizer(max_df=max_df)\n",
        "    # Con max_df=0.10 sube F1 a 0.642\n",
        "\n",
        "    X_train = tfidfvect.fit_transform(newsgroups_train.data)\n",
        "\n",
        "    y_train = newsgroups_train.target\n",
        "\n",
        "    idx2word = {v: k for k,v in tfidfvect.vocabulary_.items()}\n",
        "\n",
        "    clf = MultinomialNB()\n",
        "    clf.fit(X_train, y_train)\n",
        "\n",
        "    X_test = tfidfvect.transform(newsgroups_test.data)\n",
        "    y_test = newsgroups_test.target\n",
        "    y_pred =  clf.predict(X_test)\n",
        "\n",
        "    f1_list.append(f1_score(y_test, y_pred, average='macro'))\n",
        "\n",
        "print(f\"Max F1 score is: {max(f1_list)} with max_df = {max_df_list[np.argmax(f1_list)]}\")\n",
        "\n",
        "plt.plot(max_df_list, f1_list)\n",
        "plt.title(\"F1 Score vs max_df\")\n",
        "plt.xlabel('max_df')\n",
        "plt.ylabel('F1 Score')\n",
        "plt.grid(True)\n"
      ]
    },
    {
      "cell_type": "markdown",
      "metadata": {},
      "source": [
        "Repetimos la prueba pero usando ComplementNB"
      ]
    },
    {
      "cell_type": "code",
      "execution_count": 49,
      "metadata": {},
      "outputs": [
        {
          "name": "stdout",
          "output_type": "stream",
          "text": [
            "Max F1 score is: 0.6953220091906351 with max_df = 0.060000000000000005\n"
          ]
        },
        {
          "data": {
            "image/png": "[encoded data removed]",
            "text/plain": [
              "<Figure size 640x480 with 1 Axes>"
            ]
          },
          "metadata": {},
          "output_type": "display_data"
        }
      ],
      "source": [
        "newsgroups_train = fetch_20newsgroups(subset='train', remove=('headers', 'footers', 'quotes'))\n",
        "newsgroups_test = fetch_20newsgroups(subset='test', remove=('headers', 'footers', 'quotes'))\n",
        "\n",
        "# De acuerdo a la documentacion: \n",
        "# max_df: When building the vocabulary ignore terms that have a document frequency strictly higher than the given threshold \n",
        "# Variamos este parametro y vemos como cambia F1:\n",
        "f1_list = []\n",
        "max_df_list = list(np.arange(0.01, 0.8, 0.01))\n",
        "for max_df in max_df_list:\n",
        "    # Probamos eliminando las palabras con muy alta frecuencia\n",
        "    tfidfvect = TfidfVectorizer(max_df=max_df)\n",
        "    # Con max_df=0.10 sube F1 a 0.642\n",
        "\n",
        "    X_train = tfidfvect.fit_transform(newsgroups_train.data)\n",
        "\n",
        "    y_train = newsgroups_train.target\n",
        "\n",
        "    idx2word = {v: k for k,v in tfidfvect.vocabulary_.items()}\n",
        "\n",
        "    clf = ComplementNB()\n",
        "    clf.fit(X_train, y_train)\n",
        "\n",
        "    X_test = tfidfvect.transform(newsgroups_test.data)\n",
        "    y_test = newsgroups_test.target\n",
        "    y_pred =  clf.predict(X_test)\n",
        "\n",
        "    f1_list.append(f1_score(y_test, y_pred, average='macro'))\n",
        "\n",
        "print(f\"Max F1 score is: {max(f1_list)} with max_df = {max_df_list[np.argmax(f1_list)]}\")\n",
        "\n",
        "plt.plot(max_df_list, f1_list)\n",
        "plt.title(\"F1 Score vs max_df\")\n",
        "plt.xlabel('max_df')\n",
        "plt.ylabel('F1 Score')\n",
        "plt.grid(True)"
      ]
    },
    {
      "cell_type": "markdown",
      "metadata": {},
      "source": [
        "Se observa que: \n",
        "* El desempeño del modelo MultinomialNB mejora al eliminar aquellas palabras con alta frecuencia, aunque comienza a empeorar cuando max_df<0.3. El mejor resultado se encuentra con max_df = 0.3 con un F1 de 0.65\n",
        "\n",
        "* En el caso de ComplementNB, tambien mejora el desempeño al eliminar las palabras de alta frecuencia pero esta mejora es menos pronunciada. El mejor resultado se encuentra con max_df = 0.06 obteniendo un F1 = 0.695"
      ]
    },
    {
      "cell_type": "markdown",
      "metadata": {},
      "source": [
        "#### Ejercicio 3 "
      ]
    },
    {
      "cell_type": "code",
      "execution_count": 50,
      "metadata": {},
      "outputs": [
        {
          "data": {
            "text/plain": [
              "(11314, 101630)"
            ]
          },
          "execution_count": 50,
          "metadata": {},
          "output_type": "execute_result"
        }
      ],
      "source": [
        "X_train.shape"
      ]
    },
    {
      "cell_type": "code",
      "execution_count": 57,
      "metadata": {},
      "outputs": [
        {
          "data": {
            "text/plain": [
              "(101630, 11314)"
            ]
          },
          "execution_count": 57,
          "metadata": {},
          "output_type": "execute_result"
        }
      ],
      "source": [
        "# Trasponemos la matriz X_train para obtener la matriz termino-documento\n",
        "X_train_t = X_train.transpose()\n",
        "X_train_t.shape"
      ]
    },
    {
      "cell_type": "code",
      "execution_count": 61,
      "metadata": {},
      "outputs": [],
      "source": [
        "# Creamos funcion para encontrar las palabras mas similares:\n",
        "idx2word = {v: k for k,v in tfidfvect.vocabulary_.items()}\n",
        "\n",
        "def find_most_similar_words(input_idx, n=5):\n",
        "\n",
        "    cossim = cosine_similarity(X_train_t[input_idx], X_train_t)[0]\n",
        "\n",
        "    most_similar_values = np.sort(cossim)[::-1][1:n+1]\n",
        "    n_most_similar_words = np.argsort(cossim)[::-1][1:n+1]\n",
        "\n",
        "    sim_data = {idx2word[sim_idx]: most_similar_values[it]\n",
        "                 for it, sim_idx in enumerate(n_most_similar_words)}\n",
        "    \n",
        "    return sim_data"
      ]
    },
    {
      "cell_type": "code",
      "execution_count": 69,
      "metadata": {},
      "outputs": [
        {
          "data": {
            "text/plain": [
              "{'undemanding': np.float64(0.20038894867246687),\n",
              " 'portruding': np.float64(0.19551133924911976),\n",
              " 'yea': np.float64(0.1661310407060149),\n",
              " 'wysiwyg': np.float64(0.15790743262398882),\n",
              " 'lisgollan': np.float64(0.15454181059588584)}"
            ]
          },
          "execution_count": 69,
          "metadata": {},
          "output_type": "execute_result"
        }
      ],
      "source": [
        "# Seleccionamos las palabras: laptop, job, president, game and dog\n",
        "\n",
        "# laptob:\n",
        "find_most_similar_words(tfidfvect.vocabulary_['laptop'])"
      ]
    },
    {
      "cell_type": "code",
      "execution_count": 63,
      "metadata": {},
      "outputs": [
        {
          "data": {
            "text/plain": [
              "{'estatic': np.float64(0.2048912174687755),\n",
              " 'wage': np.float64(0.18002646077297618),\n",
              " 'computationally': np.float64(0.17096076037942706),\n",
              " 'hangeth': np.float64(0.16429182571162104),\n",
              " 'stretcheth': np.float64(0.16429182571162104)}"
            ]
          },
          "execution_count": 63,
          "metadata": {},
          "output_type": "execute_result"
        }
      ],
      "source": [
        "# Job:\n",
        "find_most_similar_words(tfidfvect.vocabulary_['job'])"
      ]
    },
    {
      "cell_type": "code",
      "execution_count": 70,
      "metadata": {},
      "outputs": [
        {
          "data": {
            "text/plain": [
              "{'decwriter': np.float64(0.1556542861037236),\n",
              " 'harkens': np.float64(0.15121252044419814),\n",
              " 'deluged': np.float64(0.15121252044419814),\n",
              " 'shopper': np.float64(0.14391497699672892),\n",
              " 'and': np.float64(0.13565520720989388)}"
            ]
          },
          "execution_count": 70,
          "metadata": {},
          "output_type": "execute_result"
        }
      ],
      "source": [
        "# computer:\n",
        "find_most_similar_words(tfidfvect.vocabulary_['computer'])"
      ]
    },
    {
      "cell_type": "code",
      "execution_count": 66,
      "metadata": {},
      "outputs": [
        {
          "data": {
            "text/plain": [
              "{'games': np.float64(0.21171896884956737),\n",
              " 'espn': np.float64(0.19511573175826355),\n",
              " 'hockey': np.float64(0.18120851676449076),\n",
              " 'team': np.float64(0.18027083119957632),\n",
              " 'scored': np.float64(0.1747410651806761)}"
            ]
          },
          "execution_count": 66,
          "metadata": {},
          "output_type": "execute_result"
        }
      ],
      "source": [
        "# game:\n",
        "find_most_similar_words(tfidfvect.vocabulary_['game'])"
      ]
    },
    {
      "cell_type": "markdown",
      "metadata": {},
      "source": [
        "Los valores de la matriz traspuesta no son buenos descriptores de las palabras, ya que solo en el caso de la palabra \"game\" las palabras más similares también tienen una similitud semántica."
      ]
    }
  ],
  "metadata": {
    "colab": {
      "provenance": []
    },
    "kernelspec": {
      "display_name": "Python 3",
      "name": "python3"
    },
    "language_info": {
      "codemirror_mode": {
        "name": "ipython",
        "version": 3
      },
      "file_extension": ".py",
      "mimetype": "text/x-python",
      "name": "python",
      "nbconvert_exporter": "python",
      "pygments_lexer": "ipython3",
      "version": "3.10.6"
    }
  },
  "nbformat": 4,
  "nbformat_minor": 0
}
