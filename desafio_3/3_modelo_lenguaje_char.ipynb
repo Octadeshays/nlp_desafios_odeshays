{
  "cells": [
    {
      "cell_type": "markdown",
      "metadata": {
        "id": "g3yeJGnCYxuF"
      },
      "source": [
        "<img src=\"https://github.com/hernancontigiani/ceia_memorias_especializacion/raw/master/Figures/logoFIUBA.jpg\" width=\"500\" align=\"center\">\n",
        "\n",
        "\n",
        "# Procesamiento de lenguaje natural\n",
        "## Modelo de lenguaje con tokenización por caracteres"
      ]
    },
    {
      "cell_type": "markdown",
      "metadata": {
        "id": "Iv5PEwGzZA9-"
      },
      "source": [
        "### Consigna\n",
        "- Seleccionar un corpus de texto sobre el cual entrenar el modelo de lenguaje.\n",
        "- Realizar el pre-procesamiento adecuado para tokenizar el corpus, estructurar el dataset y separar entre datos de entrenamiento y validación.\n",
        "- Proponer arquitecturas de redes neuronales basadas en unidades recurrentes para implementar un modelo de lenguaje.\n",
        "- Con el o los modelos que consideren adecuados, generar nuevas secuencias a partir de secuencias de contexto con las estrategias de greedy search y beam search determístico y estocástico. En este último caso observar el efecto de la temperatura en la generación de secuencias.\n",
        "\n",
        "\n",
        "### Sugerencias\n",
        "- Durante el entrenamiento, guiarse por el descenso de la perplejidad en los datos de validación para finalizar el entrenamiento. Para ello se provee un callback.\n",
        "- Explorar utilizar SimpleRNN (celda de Elman), LSTM y GRU.\n",
        "- rmsprop es el optimizador recomendado para la buena convergencia. No obstante se pueden explorar otros.\n"
      ]
    },
    {
      "cell_type": "code",
      "execution_count": 2,
      "metadata": {
        "id": "Y-QdFbHZYj7C"
      },
      "outputs": [],
      "source": [
        "import random\n",
        "import io\n",
        "import pickle\n",
        "\n",
        "import numpy as np\n",
        "import pandas as pd\n",
        "import matplotlib.pyplot as plt\n",
        "from sklearn.model_selection import train_test_split\n",
        "\n",
        "from tensorflow import keras\n",
        "from tensorflow.keras import layers\n",
        "from keras.utils import to_categorical\n",
        "from keras.models import Sequential\n",
        "from keras.layers import Dense, LSTM, Embedding, Dropout\n",
        "from tensorflow.keras.losses import SparseCategoricalCrossentropy"
      ]
    },
    {
      "cell_type": "markdown",
      "metadata": {
        "id": "xTvXlEKQZdqx"
      },
      "source": [
        "### Datos\n",
        "Utilizaremos como dataset canciones de bandas de habla inglés."
      ]
    },
    {
      "cell_type": "code",
      "execution_count": 3,
      "metadata": {
        "id": "7amy6uUaBLVD"
      },
      "outputs": [],
      "source": [
        "# descargar de textos.info\n",
        "import urllib.request\n",
        "\n",
        "# Para leer y parsear el texto en HTML de wikipedia\n",
        "import bs4 as bs"
      ]
    },
    {
      "cell_type": "code",
      "execution_count": 4,
      "metadata": {
        "id": "6v_ickFwBJTy"
      },
      "outputs": [],
      "source": [
        "raw_html = urllib.request.urlopen('https://www.textos.info/julio-verne/la-vuelta-al-mundo-en-80-dias/ebook')\n",
        "raw_html = raw_html.read()\n",
        "\n",
        "# Parsear artículo, 'lxml' es el parser a utilizar\n",
        "article_html = bs.BeautifulSoup(raw_html, 'lxml')\n",
        "\n",
        "# Encontrar todos los párrafos del HTML (bajo el tag <p>)\n",
        "# y tenerlos disponible como lista\n",
        "article_paragraphs = article_html.find_all('p')\n",
        "\n",
        "article_text = ''\n",
        "\n",
        "for para in article_paragraphs:\n",
        "    article_text += para.text + ' '\n",
        "\n",
        "# pasar todo el texto a minúscula\n",
        "article_text = article_text.lower()"
      ]
    },
    {
      "cell_type": "code",
      "execution_count": 5,
      "metadata": {
        "colab": {
          "base_uri": "https://localhost:8080/",
          "height": 145
        },
        "id": "WBE0sSYuB-E6",
        "outputId": "8e06f82d-1e7d-44d9-e9d0-767e1a53cf00"
      },
      "outputs": [
        {
          "data": {
            "application/vnd.google.colaboratory.intrinsic+json": {
              "type": "string"
            },
            "text/plain": [
              "' en el año 1872, la casa número 7 de saville-row, burlington gardens \\r\\n—donde murió sheridan en 1814— estaba habitada por phileas fogg, quien a\\r\\n pesar de que parecía haber tomado el partido de no hacer nada que \\r\\npudiese llamar la atención, era uno de los miembros más notables y \\r\\nsingulares del reformclub de londres. por consiguiente, phileas fogg, personaje enigmático y del cual sólo \\r\\nse sabía que era un hombre muy galante y de los más cumplidos gentlemen \\r\\nde la alta sociedad inglesa, sucedía a uno de los más grandes oradores \\r\\nque honran a inglaterra. decíase que se daba un aire a lo byron —su cabeza, se entiende, \\r\\nporque, en cuanto a los pies, no tenía defecto alguno—, pero a un byron \\r\\nde bigote y pastillas, a un byron impasible, que hubiera vivido mil años\\r\\n sin envejecer. phileas fogg, era inglés de pura cepa; pero quizás no había nacido en\\r\\n londres. jamás se le había visto en la bolsa ni en el banco, ni en \\r\\nninguno de los despachos mercantiles de la city. ni las dársenas '"
            ]
          },
          "execution_count": 5,
          "metadata": {},
          "output_type": "execute_result"
        }
      ],
      "source": [
        "# en article text se encuentra el texto de todo el libro\n",
        "article_text[:1000]"
      ]
    },
    {
      "cell_type": "markdown",
      "metadata": {
        "id": "cP1JdiOIKQWi"
      },
      "source": [
        "### Elegir el tamaño del contexto\n",
        "\n",
        "En este caso, como el modelo de lenguaje es por caracteres, todo un gran corpus\n",
        "de texto puede ser considerado un documento en sí mismo y el tamaño de contexto\n",
        "puede ser elegido con más libertad en comparación a un modelo de lenguaje tokenizado por palabras y dividido en documentos más acotados."
      ]
    },
    {
      "cell_type": "code",
      "execution_count": 6,
      "metadata": {
        "id": "wumBNwdjJM3j"
      },
      "outputs": [],
      "source": [
        "# seleccionamos el tamaño de contexto\n",
        "max_context_size = 100"
      ]
    },
    {
      "cell_type": "code",
      "execution_count": 7,
      "metadata": {
        "id": "m5FeTaGvbDbw"
      },
      "outputs": [],
      "source": [
        "# Usaremos las utilidades de procesamiento de textos y secuencias de Keras\n",
        "from tensorflow.keras.utils import pad_sequences # se utilizará para padding"
      ]
    },
    {
      "cell_type": "code",
      "execution_count": 8,
      "metadata": {
        "id": "573Cg5n7VhWw"
      },
      "outputs": [],
      "source": [
        "# en este caso el vocabulario es el conjunto único de caracteres que existe en todo el texto\n",
        "chars_vocab = set(article_text)"
      ]
    },
    {
      "cell_type": "code",
      "execution_count": 9,
      "metadata": {
        "colab": {
          "base_uri": "https://localhost:8080/"
        },
        "id": "VwTK6xgLJd8q",
        "outputId": "27cebbb8-6ce2-48a8-ed0f-ceb8b855e81a"
      },
      "outputs": [
        {
          "data": {
            "text/plain": [
              "68"
            ]
          },
          "execution_count": 9,
          "metadata": {},
          "output_type": "execute_result"
        }
      ],
      "source": [
        "# la longitud de vocabulario de caracteres es:\n",
        "len(chars_vocab)"
      ]
    },
    {
      "cell_type": "code",
      "execution_count": 10,
      "metadata": {
        "id": "2W0AeQjXV1Ou"
      },
      "outputs": [],
      "source": [
        "# Construimos los dicionarios que asignan índices a caracteres y viceversa.\n",
        "# El diccionario `char2idx` servirá como tokenizador.\n",
        "char2idx = {k: v for v,k in enumerate(chars_vocab)}\n",
        "idx2char = {v: k for k,v in char2idx.items()}"
      ]
    },
    {
      "cell_type": "markdown",
      "metadata": {
        "id": "2oIUjVU0LB0r"
      },
      "source": [
        "###  Tokenizar"
      ]
    },
    {
      "cell_type": "code",
      "execution_count": 11,
      "metadata": {
        "id": "h07G3srdJppo"
      },
      "outputs": [],
      "source": [
        "# tokenizamos el texto completo\n",
        "tokenized_text = [char2idx[ch] for ch in article_text]"
      ]
    },
    {
      "cell_type": "code",
      "execution_count": 12,
      "metadata": {
        "colab": {
          "base_uri": "https://localhost:8080/"
        },
        "id": "PwGVSKOiJ5bj",
        "outputId": "570dc3d0-ac0c-46b5-adbf-49a1a4caf810"
      },
      "outputs": [
        {
          "data": {
            "text/plain": [
              "[58,\n",
              " 33,\n",
              " 16,\n",
              " 58,\n",
              " 33,\n",
              " 29,\n",
              " 58,\n",
              " 34,\n",
              " 52,\n",
              " 17,\n",
              " 58,\n",
              " 5,\n",
              " 61,\n",
              " 14,\n",
              " 43,\n",
              " 4,\n",
              " 58,\n",
              " 29,\n",
              " 34,\n",
              " 58,\n",
              " 50,\n",
              " 34,\n",
              " 23,\n",
              " 34,\n",
              " 58,\n",
              " 16,\n",
              " 3,\n",
              " 15,\n",
              " 33,\n",
              " 30,\n",
              " 17,\n",
              " 58,\n",
              " 14,\n",
              " 58,\n",
              " 62,\n",
              " 33,\n",
              " 58,\n",
              " 23,\n",
              " 34,\n",
              " 20,\n",
              " 39,\n",
              " 29,\n",
              " 29,\n",
              " 33,\n",
              " 41,\n",
              " 30,\n",
              " 17,\n",
              " 44,\n",
              " 4,\n",
              " 58,\n",
              " 6,\n",
              " 64,\n",
              " 30,\n",
              " 29,\n",
              " 39,\n",
              " 16,\n",
              " 9,\n",
              " 10,\n",
              " 17,\n",
              " 16,\n",
              " 58,\n",
              " 9,\n",
              " 34,\n",
              " 30,\n",
              " 62,\n",
              " 33,\n",
              " 16,\n",
              " 23,\n",
              " 58,\n",
              " 66,\n",
              " 21,\n",
              " 7,\n",
              " 62,\n",
              " 17,\n",
              " 16,\n",
              " 62,\n",
              " 33,\n",
              " 58,\n",
              " 15,\n",
              " 64,\n",
              " 30,\n",
              " 39,\n",
              " 18,\n",
              " 58,\n",
              " 23,\n",
              " 22,\n",
              " 33,\n",
              " 30,\n",
              " 39,\n",
              " 62,\n",
              " 34,\n",
              " 16,\n",
              " 58,\n",
              " 33,\n",
              " 16,\n",
              " 58,\n",
              " 5,\n",
              " 61,\n",
              " 5,\n",
              " 59,\n",
              " 7,\n",
              " 58,\n",
              " 33,\n",
              " 23,\n",
              " 10,\n",
              " 34,\n",
              " 6,\n",
              " 34,\n",
              " 58,\n",
              " 22,\n",
              " 34,\n",
              " 6,\n",
              " 39,\n",
              " 10,\n",
              " 34,\n",
              " 62,\n",
              " 34,\n",
              " 58,\n",
              " 25,\n",
              " 17,\n",
              " 30,\n",
              " 58,\n",
              " 25,\n",
              " 22,\n",
              " 39,\n",
              " 29,\n",
              " 33,\n",
              " 34,\n",
              " 23,\n",
              " 58,\n",
              " 0,\n",
              " 17,\n",
              " 9,\n",
              " 9,\n",
              " 4,\n",
              " 58,\n",
              " 56,\n",
              " 64,\n",
              " 39,\n",
              " 33,\n",
              " 16,\n",
              " 58,\n",
              " 34,\n",
              " 66,\n",
              " 21,\n",
              " 58,\n",
              " 25,\n",
              " 33,\n",
              " 23,\n",
              " 34,\n",
              " 30,\n",
              " 58,\n",
              " 62,\n",
              " 33,\n",
              " 58,\n",
              " 56,\n",
              " 64,\n",
              " 33,\n",
              " 58,\n",
              " 25,\n",
              " 34,\n",
              " 30,\n",
              " 33,\n",
              " 50,\n",
              " 24,\n",
              " 34,\n",
              " 58,\n",
              " 22,\n",
              " 34,\n",
              " 6,\n",
              " 33,\n",
              " 30,\n",
              " 58,\n",
              " 10,\n",
              " 17,\n",
              " 15,\n",
              " 34,\n",
              " 62,\n",
              " 17,\n",
              " 58,\n",
              " 33,\n",
              " 29,\n",
              " 58,\n",
              " 25,\n",
              " 34,\n",
              " 30,\n",
              " 10,\n",
              " 39,\n",
              " 62,\n",
              " 17,\n",
              " 58,\n",
              " 62,\n",
              " 33,\n",
              " 58,\n",
              " 16,\n",
              " 17,\n",
              " 58,\n",
              " 22,\n",
              " 34,\n",
              " 50,\n",
              " 33,\n",
              " 30,\n",
              " 58,\n",
              " 16,\n",
              " 34,\n",
              " 62,\n",
              " 34,\n",
              " 58,\n",
              " 56,\n",
              " 64,\n",
              " 33,\n",
              " 58,\n",
              " 66,\n",
              " 21,\n",
              " 25,\n",
              " 64,\n",
              " 62,\n",
              " 39,\n",
              " 33,\n",
              " 23,\n",
              " 33,\n",
              " 58,\n",
              " 29,\n",
              " 29,\n",
              " 34,\n",
              " 15,\n",
              " 34,\n",
              " 30,\n",
              " 58,\n",
              " 29,\n",
              " 34,\n",
              " 58,\n",
              " 34,\n",
              " 10,\n",
              " 33,\n",
              " 16,\n",
              " 50,\n",
              " 39,\n",
              " 18,\n",
              " 16,\n",
              " 4,\n",
              " 58,\n",
              " 33,\n",
              " 30,\n",
              " 34,\n",
              " 58,\n",
              " 64,\n",
              " 16,\n",
              " 17,\n",
              " 58,\n",
              " 62,\n",
              " 33,\n",
              " 58,\n",
              " 29,\n",
              " 17,\n",
              " 23,\n",
              " 58,\n",
              " 15,\n",
              " 39,\n",
              " 33,\n",
              " 15,\n",
              " 6,\n",
              " 30,\n",
              " 17,\n",
              " 23,\n",
              " 58,\n",
              " 15,\n",
              " 63,\n",
              " 23,\n",
              " 58,\n",
              " 16,\n",
              " 17,\n",
              " 10,\n",
              " 34,\n",
              " 6,\n",
              " 29,\n",
              " 33,\n",
              " 23,\n",
              " 58,\n",
              " 2,\n",
              " 58,\n",
              " 66,\n",
              " 21,\n",
              " 23,\n",
              " 39,\n",
              " 16,\n",
              " 9,\n",
              " 64,\n",
              " 29,\n",
              " 34,\n",
              " 30,\n",
              " 33,\n",
              " 23,\n",
              " 58,\n",
              " 62,\n",
              " 33,\n",
              " 29,\n",
              " 58,\n",
              " 30,\n",
              " 33,\n",
              " 0,\n",
              " 17,\n",
              " 30,\n",
              " 15,\n",
              " 50,\n",
              " 29,\n",
              " 64,\n",
              " 6,\n",
              " 58,\n",
              " 62,\n",
              " 33,\n",
              " 58,\n",
              " 29,\n",
              " 17,\n",
              " 16,\n",
              " 62,\n",
              " 30,\n",
              " 33,\n",
              " 23,\n",
              " 31,\n",
              " 58,\n",
              " 25,\n",
              " 17,\n",
              " 30,\n",
              " 58,\n",
              " 50,\n",
              " 17,\n",
              " 16,\n",
              " 23,\n",
              " 39,\n",
              " 9,\n",
              " 64,\n",
              " 39,\n",
              " 33,\n",
              " 16,\n",
              " 10,\n",
              " 33,\n",
              " 4,\n",
              " 58,\n",
              " 25,\n",
              " 22,\n",
              " 39,\n",
              " 29,\n",
              " 33,\n",
              " 34,\n",
              " 23,\n",
              " 58,\n",
              " 0,\n",
              " 17,\n",
              " 9,\n",
              " 9,\n",
              " 4,\n",
              " 58,\n",
              " 25,\n",
              " 33,\n",
              " 30,\n",
              " 23,\n",
              " 17,\n",
              " 16,\n",
              " 34,\n",
              " 51,\n",
              " 33,\n",
              " 58,\n",
              " 33,\n",
              " 16,\n",
              " 39,\n",
              " 9,\n",
              " 15,\n",
              " 63,\n",
              " 10,\n",
              " 39,\n",
              " 50,\n",
              " 17,\n",
              " 58,\n",
              " 2,\n",
              " 58,\n",
              " 62,\n",
              " 33,\n",
              " 29,\n",
              " 58,\n",
              " 50,\n",
              " 64,\n",
              " 34,\n",
              " 29,\n",
              " 58,\n",
              " 23,\n",
              " 18,\n",
              " 29,\n",
              " 17,\n",
              " 58,\n",
              " 66,\n",
              " 21,\n",
              " 23,\n",
              " 33,\n",
              " 58,\n",
              " 23,\n",
              " 34,\n",
              " 6,\n",
              " 24,\n",
              " 34,\n",
              " 58,\n",
              " 56,\n",
              " 64,\n",
              " 33,\n",
              " 58,\n",
              " 33,\n",
              " 30,\n",
              " 34,\n",
              " 58,\n",
              " 64,\n",
              " 16,\n",
              " 58,\n",
              " 22,\n",
              " 17,\n",
              " 15,\n",
              " 6,\n",
              " 30,\n",
              " 33,\n",
              " 58,\n",
              " 15,\n",
              " 64,\n",
              " 2,\n",
              " 58,\n",
              " 9,\n",
              " 34,\n",
              " 29,\n",
              " 34,\n",
              " 16,\n",
              " 10,\n",
              " 33,\n",
              " 58,\n",
              " 2,\n",
              " 58,\n",
              " 62,\n",
              " 33,\n",
              " 58,\n",
              " 29,\n",
              " 17,\n",
              " 23,\n",
              " 58,\n",
              " 15,\n",
              " 63,\n",
              " 23,\n",
              " 58,\n",
              " 50,\n",
              " 64,\n",
              " 15,\n",
              " 25,\n",
              " 29,\n",
              " 39,\n",
              " 62,\n",
              " 17,\n",
              " 23,\n",
              " 58,\n",
              " 9,\n",
              " 33,\n",
              " 16,\n",
              " 10,\n",
              " 29,\n",
              " 33,\n",
              " 15,\n",
              " 33,\n",
              " 16,\n",
              " 58,\n",
              " 66,\n",
              " 21,\n",
              " 62,\n",
              " 33,\n",
              " 58,\n",
              " 29,\n",
              " 34,\n",
              " 58,\n",
              " 34,\n",
              " 29,\n",
              " 10,\n",
              " 34,\n",
              " 58,\n",
              " 23,\n",
              " 17,\n",
              " 50,\n",
              " 39,\n",
              " 33,\n",
              " 62,\n",
              " 34,\n",
              " 62,\n",
              " 58,\n",
              " 39,\n",
              " 16,\n",
              " 9,\n",
              " 29,\n",
              " 33,\n",
              " 23,\n",
              " 34,\n",
              " 4,\n",
              " 58,\n",
              " 23,\n",
              " 64,\n",
              " 50,\n",
              " 33,\n",
              " 62,\n",
              " 24,\n",
              " 34,\n",
              " 58,\n",
              " 34,\n",
              " 58,\n",
              " 64,\n",
              " 16,\n",
              " 17,\n",
              " 58,\n",
              " 62,\n",
              " 33,\n",
              " 58,\n",
              " 29,\n",
              " 17,\n",
              " 23,\n",
              " 58,\n",
              " 15,\n",
              " 63,\n",
              " 23,\n",
              " 58,\n",
              " 9,\n",
              " 30,\n",
              " 34,\n",
              " 16,\n",
              " 62,\n",
              " 33,\n",
              " 23,\n",
              " 58,\n",
              " 17,\n",
              " 30,\n",
              " 34,\n",
              " 62,\n",
              " 17,\n",
              " 30,\n",
              " 33,\n",
              " 23,\n",
              " 58,\n",
              " 66,\n",
              " 21,\n",
              " 56,\n",
              " 64,\n",
              " 33,\n",
              " 58,\n",
              " 22,\n",
              " 17,\n",
              " 16,\n",
              " 30,\n",
              " 34,\n",
              " 16,\n",
              " 58,\n",
              " 34,\n",
              " 58,\n",
              " 39,\n",
              " 16,\n",
              " 9,\n",
              " 29,\n",
              " 34,\n",
              " 10,\n",
              " 33,\n",
              " 30,\n",
              " 30,\n",
              " 34,\n",
              " 31,\n",
              " 58,\n",
              " 62,\n",
              " 33,\n",
              " 50,\n",
              " 24,\n",
              " 34,\n",
              " 23,\n",
              " 33,\n",
              " 58,\n",
              " 56,\n",
              " 64,\n",
              " 33,\n",
              " 58,\n",
              " 23,\n",
              " 33,\n",
              " 58,\n",
              " 62,\n",
              " 34,\n",
              " 6,\n",
              " 34,\n",
              " 58,\n",
              " 64,\n",
              " 16,\n",
              " 58,\n",
              " 34,\n",
              " 39,\n",
              " 30,\n",
              " 33,\n",
              " 58,\n",
              " 34,\n",
              " 58,\n",
              " 29,\n",
              " 17,\n",
              " 58,\n",
              " 6,\n",
              " 2,\n",
              " 30,\n",
              " 17,\n",
              " 16,\n",
              " 58,\n",
              " 7,\n",
              " 23,\n",
              " 64,\n",
              " 58,\n",
              " 50,\n",
              " 34,\n",
              " 6,\n",
              " 33,\n",
              " 46,\n",
              " 34,\n",
              " 4,\n",
              " 58,\n",
              " 23,\n",
              " 33,\n",
              " 58,\n",
              " 33,\n",
              " 16,\n",
              " 10,\n",
              " 39,\n",
              " 33,\n",
              " 16,\n",
              " 62,\n",
              " 33,\n",
              " 4,\n",
              " 58,\n",
              " 66,\n",
              " 21,\n",
              " 25,\n",
              " 17,\n",
              " 30,\n",
              " 56,\n",
              " 64,\n",
              " 33,\n",
              " 4,\n",
              " 58,\n",
              " 33,\n",
              " 16,\n",
              " 58,\n",
              " 50,\n",
              " 64,\n",
              " 34,\n",
              " 16,\n",
              " 10,\n",
              " 17,\n",
              " 58,\n",
              " 34,\n",
              " 58,\n",
              " 29,\n",
              " 17,\n",
              " 23,\n",
              " 58,\n",
              " 25,\n",
              " 39,\n",
              " 33,\n",
              " 23,\n",
              " 4,\n",
              " 58,\n",
              " 16,\n",
              " 17,\n",
              " 58,\n",
              " 10,\n",
              " 33,\n",
              " 16,\n",
              " 24,\n",
              " 34,\n",
              " 58,\n",
              " 62,\n",
              " 33,\n",
              " 0,\n",
              " 33,\n",
              " 50,\n",
              " 10,\n",
              " 17,\n",
              " 58,\n",
              " 34,\n",
              " 29,\n",
              " 9,\n",
              " 64,\n",
              " 16,\n",
              " 17,\n",
              " 7,\n",
              " 4,\n",
              " 58,\n",
              " 25,\n",
              " 33,\n",
              " 30,\n",
              " 17,\n",
              " 58,\n",
              " 34,\n",
              " 58,\n",
              " 64,\n",
              " 16,\n",
              " 58,\n",
              " 6,\n",
              " 2,\n",
              " 30,\n",
              " 17,\n",
              " 16,\n",
              " 58,\n",
              " 66,\n",
              " 21,\n",
              " 62,\n",
              " 33,\n",
              " 58,\n",
              " 6,\n",
              " 39,\n",
              " 9,\n",
              " 17,\n",
              " 10,\n",
              " 33,\n",
              " 58,\n",
              " 2,\n",
              " 58,\n",
              " 25,\n",
              " 34,\n",
              " 23,\n",
              " 10,\n",
              " 39,\n",
              " 29,\n",
              " 29,\n",
              " 34,\n",
              " 23,\n",
              " 4,\n",
              " 58,\n",
              " 34,\n",
              " 58,\n",
              " 64,\n",
              " 16,\n",
              " 58,\n",
              " 6,\n",
              " 2,\n",
              " 30,\n",
              " 17,\n",
              " 16,\n",
              " 58,\n",
              " 39,\n",
              " 15,\n",
              " 25,\n",
              " 34,\n",
              " 23,\n",
              " 39,\n",
              " 6,\n",
              " 29,\n",
              " 33,\n",
              " 4,\n",
              " 58,\n",
              " 56,\n",
              " 64,\n",
              " 33,\n",
              " 58,\n",
              " 22,\n",
              " 64,\n",
              " 6,\n",
              " 39,\n",
              " 33,\n",
              " 30,\n",
              " 34,\n",
              " 58,\n",
              " 20,\n",
              " 39,\n",
              " 20,\n",
              " 39,\n",
              " 62,\n",
              " 17,\n",
              " 58,\n",
              " 15,\n",
              " 39,\n",
              " 29,\n",
              " 58,\n",
              " 34,\n",
              " 52,\n",
              " 17,\n",
              " 23,\n",
              " 66,\n",
              " 21,\n",
              " 58,\n",
              " 23,\n",
              " 39,\n",
              " 16,\n",
              " 58,\n",
              " 33,\n",
              " 16,\n",
              " 20,\n",
              " 33,\n",
              " 51,\n",
              " 33,\n",
              " 50,\n",
              " 33,\n",
              " 30,\n",
              " 31,\n",
              " 58,\n",
              " 25,\n",
              " 22,\n",
              " 39,\n",
              " 29,\n",
              " 33,\n",
              " 34,\n",
              " 23,\n",
              " 58,\n",
              " 0,\n",
              " 17,\n",
              " 9,\n",
              " 9,\n",
              " 4,\n",
              " 58,\n",
              " 33,\n",
              " 30,\n",
              " 34,\n",
              " 58,\n",
              " 39,\n",
              " 16,\n",
              " 9,\n",
              " 29,\n",
              " 60,\n",
              " 23,\n",
              " 58,\n",
              " 62,\n",
              " 33,\n",
              " 58,\n",
              " 25,\n",
              " 64,\n",
              " 30,\n",
              " 34,\n",
              " 58,\n",
              " 50,\n",
              " 33,\n",
              " 25,\n",
              " 34,\n",
              " 13,\n",
              " 58,\n",
              " 25,\n",
              " 33,\n",
              " 30,\n",
              " 17,\n",
              " 58,\n",
              " 56,\n",
              " 64,\n",
              " 39,\n",
              " 46,\n",
              " 63,\n",
              " 23,\n",
              " 58,\n",
              " 16,\n",
              " 17,\n",
              " 58,\n",
              " 22,\n",
              " 34,\n",
              " 6,\n",
              " 24,\n",
              " 34,\n",
              " 58,\n",
              " 16,\n",
              " 34,\n",
              " 50,\n",
              " 39,\n",
              " 62,\n",
              " 17,\n",
              " 58,\n",
              " 33,\n",
              " 16,\n",
              " 66,\n",
              " 21,\n",
              " 58,\n",
              " 29,\n",
              " 17,\n",
              " 16,\n",
              " 62,\n",
              " 30,\n",
              " 33,\n",
              " 23,\n",
              " 31,\n",
              " 58,\n",
              " 51,\n",
              " 34,\n",
              " 15,\n",
              " 63,\n",
              " 23,\n",
              " 58,\n",
              " 23,\n",
              " 33,\n",
              " 58,\n",
              " 29,\n",
              " 33,\n",
              " 58,\n",
              " 22,\n",
              " 34,\n",
              " 6,\n",
              " 24,\n",
              " 34,\n",
              " 58,\n",
              " 20,\n",
              " 39,\n",
              " 23,\n",
              " 10,\n",
              " 17,\n",
              " 58,\n",
              " 33,\n",
              " 16,\n",
              " 58,\n",
              " 29,\n",
              " 34,\n",
              " 58,\n",
              " 6,\n",
              " 17,\n",
              " 29,\n",
              " 23,\n",
              " 34,\n",
              " 58,\n",
              " 16,\n",
              " 39,\n",
              " 58,\n",
              " 33,\n",
              " 16,\n",
              " 58,\n",
              " 33,\n",
              " 29,\n",
              " 58,\n",
              " 6,\n",
              " 34,\n",
              " 16,\n",
              " 50,\n",
              " 17,\n",
              " 4,\n",
              " 58,\n",
              " 16,\n",
              " 39,\n",
              " 58,\n",
              " 33,\n",
              " 16,\n",
              " 58,\n",
              " 66,\n",
              " 21,\n",
              " 16,\n",
              " 39,\n",
              " 16,\n",
              " 9,\n",
              " 64,\n",
              " 16,\n",
              " 17,\n",
              " 58,\n",
              " 62,\n",
              " 33,\n",
              " 58,\n",
              " 29,\n",
              " 17,\n",
              " 23,\n",
              " 58,\n",
              " 62,\n",
              " 33,\n",
              " 23,\n",
              " 25,\n",
              " 34,\n",
              " 50,\n",
              " 22,\n",
              " 17,\n",
              " 23,\n",
              " 58,\n",
              " 15,\n",
              " 33,\n",
              " 30,\n",
              " 50,\n",
              " 34,\n",
              " 16,\n",
              " 10,\n",
              " 39,\n",
              " 29,\n",
              " 33,\n",
              " 23,\n",
              " 58,\n",
              " 62,\n",
              " 33,\n",
              " 58,\n",
              " 29,\n",
              " 34,\n",
              " 58,\n",
              " 50,\n",
              " 39,\n",
              " 10,\n",
              " 2,\n",
              " 31,\n",
              " 58,\n",
              " 16,\n",
              " 39,\n",
              " 58,\n",
              " 29,\n",
              " 34,\n",
              " 23,\n",
              " 58,\n",
              " 62,\n",
              " 63,\n",
              " 30,\n",
              " 23,\n",
              " 33,\n",
              " 16,\n",
              " 34,\n",
              " 23,\n",
              " 58]"
            ]
          },
          "execution_count": 12,
          "metadata": {},
          "output_type": "execute_result"
        }
      ],
      "source": [
        "tokenized_text[:1000]"
      ]
    },
    {
      "cell_type": "markdown",
      "metadata": {
        "id": "pfpYcaypKcI9"
      },
      "source": [
        "### Organizando y estructurando el dataset"
      ]
    },
    {
      "cell_type": "code",
      "execution_count": 13,
      "metadata": {
        "id": "WSSmg9jtKP0T"
      },
      "outputs": [],
      "source": [
        "# separaremos el dataset entre entrenamiento y validación.\n",
        "# `p_val` será la proporción del corpus que se reservará para validación\n",
        "# `num_val` es la cantidad de secuencias de tamaño `max_context_size` que se usará en validación\n",
        "p_val = 0.1\n",
        "num_val = int(np.ceil(len(tokenized_text)*p_val/max_context_size))"
      ]
    },
    {
      "cell_type": "code",
      "execution_count": 14,
      "metadata": {
        "id": "b7dCpGrdKll0"
      },
      "outputs": [],
      "source": [
        "# separamos la porción de texto utilizada en entrenamiento de la de validación.\n",
        "train_text = tokenized_text[:-num_val*max_context_size]\n",
        "val_text = tokenized_text[-num_val*max_context_size:]"
      ]
    },
    {
      "cell_type": "code",
      "execution_count": 15,
      "metadata": {
        "id": "NmxQdxl8LRCg"
      },
      "outputs": [],
      "source": [
        "tokenized_sentences_val = [val_text[init*max_context_size:init*(max_context_size+1)] for init in range(num_val)]"
      ]
    },
    {
      "cell_type": "code",
      "execution_count": 16,
      "metadata": {
        "id": "_gyFT9koLqDm"
      },
      "outputs": [],
      "source": [
        "tokenized_sentences_train = [train_text[init:init+max_context_size] for init in range(len(train_text)-max_context_size+1)]"
      ]
    },
    {
      "cell_type": "code",
      "execution_count": 17,
      "metadata": {
        "id": "oVNqmmLRodT0"
      },
      "outputs": [],
      "source": [
        "X = np.array(tokenized_sentences_train[:-1])\n",
        "y = np.array(tokenized_sentences_train[1:])"
      ]
    },
    {
      "cell_type": "markdown",
      "metadata": {
        "id": "Vken7O4ETsAJ"
      },
      "source": [
        "Nótese que estamos estructurando el problema de aprendizaje como *many-to-many*:\n",
        "\n",
        "Entrada: secuencia de tokens [$x_0$, $x_1$, ..., $x_N$]\n",
        "\n",
        "Target: secuencia de tokens [$x_1$, $x_2$, ..., $x_{N+1}$]\n",
        "\n",
        "De manera que la red tiene que aprender que su salida deben ser los tokens desplazados en una posición y un nuevo token predicho (el N+1).\n",
        "\n",
        "La ventaja de estructurar el aprendizaje de esta manera es que para cada token de target se propaga una señal de gradiente por el grafo de cómputo recurrente, que es mejor que estructurar el problema como *many-to-one* en donde sólo una señal de gradiente se propaga."
      ]
    },
    {
      "cell_type": "markdown",
      "metadata": {
        "id": "l3iPTx-UJl6r"
      },
      "source": [
        "En este punto tenemos en la variable `tokenized_sentences` los versos tokenizados. Vamos a quedarnos con un conjunto de validación que utilizaremos para medir la calidad de la generación de secuencias con la métrica de Perplejidad."
      ]
    },
    {
      "cell_type": "code",
      "execution_count": 18,
      "metadata": {
        "colab": {
          "base_uri": "https://localhost:8080/"
        },
        "id": "KFAyA4zCWE-5",
        "outputId": "8eb35fe9-e3b8-450e-81ad-10f04368c26f"
      },
      "outputs": [
        {
          "data": {
            "text/plain": [
              "(359671, 100)"
            ]
          },
          "execution_count": 18,
          "metadata": {},
          "output_type": "execute_result"
        }
      ],
      "source": [
        "X.shape"
      ]
    },
    {
      "cell_type": "code",
      "execution_count": 19,
      "metadata": {
        "colab": {
          "base_uri": "https://localhost:8080/"
        },
        "id": "qcKRl70HFTzG",
        "outputId": "09f6a86f-6c2a-4c82-a391-f890c2635773"
      },
      "outputs": [
        {
          "data": {
            "text/plain": [
              "array([58, 33, 16, 58, 33, 29, 58, 34, 52, 17])"
            ]
          },
          "execution_count": 19,
          "metadata": {},
          "output_type": "execute_result"
        }
      ],
      "source": [
        "X[0,:10]"
      ]
    },
    {
      "cell_type": "code",
      "execution_count": 20,
      "metadata": {
        "colab": {
          "base_uri": "https://localhost:8080/"
        },
        "id": "TVpLCKSZFXZO",
        "outputId": "565ed444-8094-4661-9af7-58df324997ff"
      },
      "outputs": [
        {
          "data": {
            "text/plain": [
              "array([33, 16, 58, 33, 29, 58, 34, 52, 17, 58])"
            ]
          },
          "execution_count": 20,
          "metadata": {},
          "output_type": "execute_result"
        }
      ],
      "source": [
        "y[0,:10]"
      ]
    },
    {
      "cell_type": "code",
      "execution_count": 21,
      "metadata": {
        "id": "wOFCR-KqbW1N"
      },
      "outputs": [],
      "source": [
        "vocab_size = len(chars_vocab)"
      ]
    },
    {
      "cell_type": "markdown",
      "metadata": {
        "id": "tnnjdAQ5UAEJ"
      },
      "source": [
        "# Definiendo el modelo"
      ]
    },
    {
      "cell_type": "code",
      "execution_count": 23,
      "metadata": {
        "id": "rkMCZvmhrQz4"
      },
      "outputs": [],
      "source": [
        "from keras.layers import Input, TimeDistributed, CategoryEncoding, SimpleRNN, Dense\n",
        "from keras.models import Model, Sequential"
      ]
    },
    {
      "cell_type": "markdown",
      "metadata": {
        "id": "wgz7VKwTUbj6"
      },
      "source": [
        "El modelo que se propone como ejemplo consume los índices de los tokens y los transforma en vectores OHE (en este caso no entrenamos una capa de embedding para caracteres). Esa transformación se logra combinando las capas `CategoryEncoding` que transforma a índices a vectores OHE y `TimeDistributed` que aplica la capa a lo largo de la dimensión \"temporal\" de la secuencia."
      ]
    },
    {
      "cell_type": "code",
      "execution_count": 24,
      "metadata": {
        "colab": {
          "base_uri": "https://localhost:8080/",
          "height": 286
        },
        "id": "Zd2OkfQYs2Q7",
        "outputId": "92e9beaa-275a-49ee-fabf-38ce88502b82"
      },
      "outputs": [
        {
          "name": "stderr",
          "output_type": "stream",
          "text": [
            "/usr/local/lib/python3.10/dist-packages/keras/src/layers/core/wrapper.py:27: UserWarning: Do not pass an `input_shape`/`input_dim` argument to a layer. When using Sequential models, prefer using an `Input(shape)` object as the first layer in the model instead.\n",
            "  super().__init__(**kwargs)\n"
          ]
        },
        {
          "data": {
            "text/html": [
              "<pre style=\"white-space:pre;overflow-x:auto;line-height:normal;font-family:Menlo,'DejaVu Sans Mono',consolas,'Courier New',monospace\"><span style=\"font-weight: bold\">Model: \"sequential_1\"</span>\n",
              "</pre>\n"
            ],
            "text/plain": [
              "\u001b[1mModel: \"sequential_1\"\u001b[0m\n"
            ]
          },
          "metadata": {},
          "output_type": "display_data"
        },
        {
          "data": {
            "text/html": [
              "<pre style=\"white-space:pre;overflow-x:auto;line-height:normal;font-family:Menlo,'DejaVu Sans Mono',consolas,'Courier New',monospace\">┏━━━━━━━━━━━━━━━━━━━━━━━━━━━━━━━━━━━━━━┳━━━━━━━━━━━━━━━━━━━━━━━━━━━━━┳━━━━━━━━━━━━━━━━━┓\n",
              "┃<span style=\"font-weight: bold\"> Layer (type)                         </span>┃<span style=\"font-weight: bold\"> Output Shape                </span>┃<span style=\"font-weight: bold\">         Param # </span>┃\n",
              "┡━━━━━━━━━━━━━━━━━━━━━━━━━━━━━━━━━━━━━━╇━━━━━━━━━━━━━━━━━━━━━━━━━━━━━╇━━━━━━━━━━━━━━━━━┩\n",
              "│ time_distributed (<span style=\"color: #0087ff; text-decoration-color: #0087ff\">TimeDistributed</span>)   │ (<span style=\"color: #00d7ff; text-decoration-color: #00d7ff\">None</span>, <span style=\"color: #00d7ff; text-decoration-color: #00d7ff\">None</span>, <span style=\"color: #00af00; text-decoration-color: #00af00\">68</span>)            │               <span style=\"color: #00af00; text-decoration-color: #00af00\">0</span> │\n",
              "├──────────────────────────────────────┼─────────────────────────────┼─────────────────┤\n",
              "│ simple_rnn (<span style=\"color: #0087ff; text-decoration-color: #0087ff\">SimpleRNN</span>)               │ (<span style=\"color: #00d7ff; text-decoration-color: #00d7ff\">None</span>, <span style=\"color: #00d7ff; text-decoration-color: #00d7ff\">None</span>, <span style=\"color: #00af00; text-decoration-color: #00af00\">200</span>)           │          <span style=\"color: #00af00; text-decoration-color: #00af00\">53,800</span> │\n",
              "├──────────────────────────────────────┼─────────────────────────────┼─────────────────┤\n",
              "│ dense (<span style=\"color: #0087ff; text-decoration-color: #0087ff\">Dense</span>)                        │ (<span style=\"color: #00d7ff; text-decoration-color: #00d7ff\">None</span>, <span style=\"color: #00d7ff; text-decoration-color: #00d7ff\">None</span>, <span style=\"color: #00af00; text-decoration-color: #00af00\">68</span>)            │          <span style=\"color: #00af00; text-decoration-color: #00af00\">13,668</span> │\n",
              "└──────────────────────────────────────┴─────────────────────────────┴─────────────────┘\n",
              "</pre>\n"
            ],
            "text/plain": [
              "┏━━━━━━━━━━━━━━━━━━━━━━━━━━━━━━━━━━━━━━┳━━━━━━━━━━━━━━━━━━━━━━━━━━━━━┳━━━━━━━━━━━━━━━━━┓\n",
              "┃\u001b[1m \u001b[0m\u001b[1mLayer (type)                        \u001b[0m\u001b[1m \u001b[0m┃\u001b[1m \u001b[0m\u001b[1mOutput Shape               \u001b[0m\u001b[1m \u001b[0m┃\u001b[1m \u001b[0m\u001b[1m        Param #\u001b[0m\u001b[1m \u001b[0m┃\n",
              "┡━━━━━━━━━━━━━━━━━━━━━━━━━━━━━━━━━━━━━━╇━━━━━━━━━━━━━━━━━━━━━━━━━━━━━╇━━━━━━━━━━━━━━━━━┩\n",
              "│ time_distributed (\u001b[38;5;33mTimeDistributed\u001b[0m)   │ (\u001b[38;5;45mNone\u001b[0m, \u001b[38;5;45mNone\u001b[0m, \u001b[38;5;34m68\u001b[0m)            │               \u001b[38;5;34m0\u001b[0m │\n",
              "├──────────────────────────────────────┼─────────────────────────────┼─────────────────┤\n",
              "│ simple_rnn (\u001b[38;5;33mSimpleRNN\u001b[0m)               │ (\u001b[38;5;45mNone\u001b[0m, \u001b[38;5;45mNone\u001b[0m, \u001b[38;5;34m200\u001b[0m)           │          \u001b[38;5;34m53,800\u001b[0m │\n",
              "├──────────────────────────────────────┼─────────────────────────────┼─────────────────┤\n",
              "│ dense (\u001b[38;5;33mDense\u001b[0m)                        │ (\u001b[38;5;45mNone\u001b[0m, \u001b[38;5;45mNone\u001b[0m, \u001b[38;5;34m68\u001b[0m)            │          \u001b[38;5;34m13,668\u001b[0m │\n",
              "└──────────────────────────────────────┴─────────────────────────────┴─────────────────┘\n"
            ]
          },
          "metadata": {},
          "output_type": "display_data"
        },
        {
          "data": {
            "text/html": [
              "<pre style=\"white-space:pre;overflow-x:auto;line-height:normal;font-family:Menlo,'DejaVu Sans Mono',consolas,'Courier New',monospace\"><span style=\"font-weight: bold\"> Total params: </span><span style=\"color: #00af00; text-decoration-color: #00af00\">67,468</span> (263.55 KB)\n",
              "</pre>\n"
            ],
            "text/plain": [
              "\u001b[1m Total params: \u001b[0m\u001b[38;5;34m67,468\u001b[0m (263.55 KB)\n"
            ]
          },
          "metadata": {},
          "output_type": "display_data"
        },
        {
          "data": {
            "text/html": [
              "<pre style=\"white-space:pre;overflow-x:auto;line-height:normal;font-family:Menlo,'DejaVu Sans Mono',consolas,'Courier New',monospace\"><span style=\"font-weight: bold\"> Trainable params: </span><span style=\"color: #00af00; text-decoration-color: #00af00\">67,468</span> (263.55 KB)\n",
              "</pre>\n"
            ],
            "text/plain": [
              "\u001b[1m Trainable params: \u001b[0m\u001b[38;5;34m67,468\u001b[0m (263.55 KB)\n"
            ]
          },
          "metadata": {},
          "output_type": "display_data"
        },
        {
          "data": {
            "text/html": [
              "<pre style=\"white-space:pre;overflow-x:auto;line-height:normal;font-family:Menlo,'DejaVu Sans Mono',consolas,'Courier New',monospace\"><span style=\"font-weight: bold\"> Non-trainable params: </span><span style=\"color: #00af00; text-decoration-color: #00af00\">0</span> (0.00 B)\n",
              "</pre>\n"
            ],
            "text/plain": [
              "\u001b[1m Non-trainable params: \u001b[0m\u001b[38;5;34m0\u001b[0m (0.00 B)\n"
            ]
          },
          "metadata": {},
          "output_type": "display_data"
        }
      ],
      "source": [
        "model = Sequential()\n",
        "\n",
        "model.add(TimeDistributed(CategoryEncoding(num_tokens=vocab_size, output_mode = \"one_hot\"),input_shape=(None,1)))\n",
        "model.add(SimpleRNN(200, return_sequences=True, dropout=0.1, recurrent_dropout=0.1 ))\n",
        "model.add(Dense(vocab_size, activation='softmax'))\n",
        "model.compile(loss='sparse_categorical_crossentropy', optimizer='rmsprop')\n",
        "\n",
        "model.summary()"
      ]
    },
    {
      "cell_type": "markdown",
      "metadata": {
        "id": "GmJWNyxQwfCE"
      },
      "source": [
        "\n",
        "### Definir el modelo"
      ]
    },
    {
      "cell_type": "markdown",
      "metadata": {
        "id": "YWK3z85sQfUe"
      },
      "source": [
        "Dado que por el momento no hay implementaciones adecuadas de la perplejidad que puedan operar en tiempo de entrenamiento, armaremos un Callback *ad-hoc* que la calcule en cada epoch.\n",
        "\n",
        "**Nota**: un Callback es una rutina gatillada por algún evento, son muy útiles para relevar datos en diferentes momentos del desarrollo del modelo. En este caso queremos hacer un cálculo cada vez que termina una epoch de entrenamiento."
      ]
    },
    {
      "cell_type": "code",
      "execution_count": 25,
      "metadata": {
        "id": "zUHX3r5JD-MG"
      },
      "outputs": [],
      "source": [
        "class PplCallback(keras.callbacks.Callback):\n",
        "\n",
        "    '''\n",
        "    Este callback es una solución ad-hoc para calcular al final de cada epoch de\n",
        "    entrenamiento la métrica de Perplejidad sobre un conjunto de datos de validación.\n",
        "    La perplejidad es una métrica cuantitativa para evaluar la calidad de la generación de secuencias.\n",
        "    Además implementa la finalización del entrenamiento (Early Stopping)\n",
        "    si la perplejidad no mejora después de `patience` epochs.\n",
        "    '''\n",
        "\n",
        "    def __init__(self, val_data, history_ppl,patience=5):\n",
        "      # El callback lo inicializamos con secuencias de validación sobre las cuales\n",
        "      # mediremos la perplejidad\n",
        "      self.val_data = val_data\n",
        "\n",
        "      self.target = []\n",
        "      self.padded = []\n",
        "\n",
        "      count = 0\n",
        "      self.info = []\n",
        "      self.min_score = np.inf\n",
        "      self.patience_counter = 0\n",
        "      self.patience = patience\n",
        "\n",
        "      # nos movemos en todas las secuencias de los datos de validación\n",
        "      for seq in self.val_data:\n",
        "\n",
        "        len_seq = len(seq)\n",
        "        # armamos todas las subsecuencias\n",
        "        subseq = [seq[:i] for i in range(1,len_seq)]\n",
        "        self.target.extend([seq[i] for i in range(1,len_seq)])\n",
        "\n",
        "        if len(subseq)!=0:\n",
        "\n",
        "          self.padded.append(pad_sequences(subseq, maxlen=max_context_size, padding='pre'))\n",
        "\n",
        "          self.info.append((count,count+len_seq))\n",
        "          count += len_seq\n",
        "\n",
        "      self.padded = np.vstack(self.padded)\n",
        "\n",
        "\n",
        "    def on_epoch_end(self, epoch, logs=None):\n",
        "\n",
        "        # en `scores` iremos guardando la perplejidad de cada secuencia\n",
        "        scores = []\n",
        "\n",
        "        predictions = self.model.predict(self.padded,verbose=0)\n",
        "\n",
        "        # para cada secuencia de validación\n",
        "        for start,end in self.info:\n",
        "\n",
        "          # en `probs` iremos guardando las probabilidades de los términos target\n",
        "          probs = [predictions[idx_seq,-1,idx_vocab] for idx_seq, idx_vocab in zip(range(start,end),self.target[start:end])]\n",
        "\n",
        "          # calculamos la perplejidad por medio de logaritmos\n",
        "          scores.append(np.exp(-np.sum(np.log(probs))/(end-start)))\n",
        "\n",
        "        # promediamos todos los scores e imprimimos el valor promedio\n",
        "        current_score = np.mean(scores)\n",
        "        history_ppl.append(current_score)\n",
        "        print(f'\\n mean perplexity: {current_score} \\n')\n",
        "\n",
        "        # chequeamos si tenemos que detener el entrenamiento\n",
        "        if current_score < self.min_score:\n",
        "          self.min_score = current_score\n",
        "          self.model.save(\"best_model_char.keras\")\n",
        "          print(\"Saved new model!\")\n",
        "          self.patience_counter = 0\n",
        "        else:\n",
        "          self.patience_counter += 1\n",
        "          if self.patience_counter == self.patience:\n",
        "            print(\"Stopping training...\")\n",
        "            self.model.stop_training = True\n"
      ]
    },
    {
      "cell_type": "markdown",
      "metadata": {
        "id": "8HBZIwR0gruA"
      },
      "source": [
        "### Entrenamiento"
      ]
    },
    {
      "cell_type": "code",
      "execution_count": 26,
      "metadata": {
        "colab": {
          "base_uri": "https://localhost:8080/"
        },
        "id": "oQq1PHDkxDvN",
        "outputId": "05e21f05-6617-42d4-cbab-8b463dfd23ce"
      },
      "outputs": [
        {
          "name": "stdout",
          "output_type": "stream",
          "text": [
            "Epoch 1/20\n",
            "\u001b[1m5620/5620\u001b[0m \u001b[32m━━━━━━━━━━━━━━━━━━━━\u001b[0m\u001b[37m\u001b[0m \u001b[1m0s\u001b[0m 13ms/step - loss: 2.1647\n",
            " mean perplexity: 5.726785531223301 \n",
            "\n",
            "Saved new model!\n",
            "\u001b[1m5620/5620\u001b[0m \u001b[32m━━━━━━━━━━━━━━━━━━━━\u001b[0m\u001b[37m\u001b[0m \u001b[1m101s\u001b[0m 17ms/step - loss: 2.1646\n",
            "Epoch 2/20\n",
            "\u001b[1m5619/5620\u001b[0m \u001b[32m━━━━━━━━━━━━━━━━━━━\u001b[0m\u001b[37m━\u001b[0m \u001b[1m0s\u001b[0m 12ms/step - loss: 1.7675\n",
            " mean perplexity: 5.1576737273177535 \n",
            "\n",
            "Saved new model!\n",
            "\u001b[1m5620/5620\u001b[0m \u001b[32m━━━━━━━━━━━━━━━━━━━━\u001b[0m\u001b[37m\u001b[0m \u001b[1m133s\u001b[0m 16ms/step - loss: 1.7675\n",
            "Epoch 3/20\n",
            "\u001b[1m5620/5620\u001b[0m \u001b[32m━━━━━━━━━━━━━━━━━━━━\u001b[0m\u001b[37m\u001b[0m \u001b[1m0s\u001b[0m 12ms/step - loss: 1.7183\n",
            " mean perplexity: 5.05402941545104 \n",
            "\n",
            "Saved new model!\n",
            "\u001b[1m5620/5620\u001b[0m \u001b[32m━━━━━━━━━━━━━━━━━━━━\u001b[0m\u001b[37m\u001b[0m \u001b[1m82s\u001b[0m 15ms/step - loss: 1.7183\n",
            "Epoch 4/20\n",
            "\u001b[1m5617/5620\u001b[0m \u001b[32m━━━━━━━━━━━━━━━━━━━\u001b[0m\u001b[37m━\u001b[0m \u001b[1m0s\u001b[0m 12ms/step - loss: 1.6962\n",
            " mean perplexity: 4.8328489998904205 \n",
            "\n",
            "Saved new model!\n",
            "\u001b[1m5620/5620\u001b[0m \u001b[32m━━━━━━━━━━━━━━━━━━━━\u001b[0m\u001b[37m\u001b[0m \u001b[1m148s\u001b[0m 16ms/step - loss: 1.6962\n",
            "Epoch 5/20\n",
            "\u001b[1m5620/5620\u001b[0m \u001b[32m━━━━━━━━━━━━━━━━━━━━\u001b[0m\u001b[37m\u001b[0m \u001b[1m0s\u001b[0m 12ms/step - loss: 1.6827\n",
            " mean perplexity: 4.809594472532505 \n",
            "\n",
            "Saved new model!\n",
            "\u001b[1m5620/5620\u001b[0m \u001b[32m━━━━━━━━━━━━━━━━━━━━\u001b[0m\u001b[37m\u001b[0m \u001b[1m142s\u001b[0m 16ms/step - loss: 1.6827\n",
            "Epoch 6/20\n",
            "\u001b[1m5619/5620\u001b[0m \u001b[32m━━━━━━━━━━━━━━━━━━━\u001b[0m\u001b[37m━\u001b[0m \u001b[1m0s\u001b[0m 12ms/step - loss: 1.6733\n",
            " mean perplexity: 4.848520789239276 \n",
            "\n",
            "\u001b[1m5620/5620\u001b[0m \u001b[32m━━━━━━━━━━━━━━━━━━━━\u001b[0m\u001b[37m\u001b[0m \u001b[1m142s\u001b[0m 16ms/step - loss: 1.6733\n",
            "Epoch 7/20\n",
            "\u001b[1m5620/5620\u001b[0m \u001b[32m━━━━━━━━━━━━━━━━━━━━\u001b[0m\u001b[37m\u001b[0m \u001b[1m0s\u001b[0m 12ms/step - loss: 1.6669\n",
            " mean perplexity: 4.885983624274185 \n",
            "\n",
            "\u001b[1m5620/5620\u001b[0m \u001b[32m━━━━━━━━━━━━━━━━━━━━\u001b[0m\u001b[37m\u001b[0m \u001b[1m136s\u001b[0m 15ms/step - loss: 1.6669\n",
            "Epoch 8/20\n",
            "\u001b[1m5618/5620\u001b[0m \u001b[32m━━━━━━━━━━━━━━━━━━━\u001b[0m\u001b[37m━\u001b[0m \u001b[1m0s\u001b[0m 12ms/step - loss: 1.6621\n",
            " mean perplexity: 4.934154198483656 \n",
            "\n",
            "\u001b[1m5620/5620\u001b[0m \u001b[32m━━━━━━━━━━━━━━━━━━━━\u001b[0m\u001b[37m\u001b[0m \u001b[1m147s\u001b[0m 16ms/step - loss: 1.6621\n",
            "Epoch 9/20\n",
            "\u001b[1m5619/5620\u001b[0m \u001b[32m━━━━━━━━━━━━━━━━━━━\u001b[0m\u001b[37m━\u001b[0m \u001b[1m0s\u001b[0m 12ms/step - loss: 1.6580\n",
            " mean perplexity: 4.95539083780934 \n",
            "\n",
            "\u001b[1m5620/5620\u001b[0m \u001b[32m━━━━━━━━━━━━━━━━━━━━\u001b[0m\u001b[37m\u001b[0m \u001b[1m142s\u001b[0m 16ms/step - loss: 1.6580\n",
            "Epoch 10/20\n",
            "\u001b[1m5618/5620\u001b[0m \u001b[32m━━━━━━━━━━━━━━━━━━━\u001b[0m\u001b[37m━\u001b[0m \u001b[1m0s\u001b[0m 12ms/step - loss: 1.6545\n",
            " mean perplexity: 4.902378397153537 \n",
            "\n",
            "Stopping training...\n",
            "\u001b[1m5620/5620\u001b[0m \u001b[32m━━━━━━━━━━━━━━━━━━━━\u001b[0m\u001b[37m\u001b[0m \u001b[1m136s\u001b[0m 15ms/step - loss: 1.6545\n"
          ]
        }
      ],
      "source": [
        "# fiteamos, nótese el agregado del callback con su inicialización. El batch_size lo podemos seleccionar a mano\n",
        "# en general, lo mejor es escoger el batch más grande posible que minimice el tiempo de cada época.\n",
        "# En la variable `history_ppl` se guardarán los valores de perplejidad para cada época.\n",
        "history_ppl = []\n",
        "hist = model.fit(X, y, epochs=20, callbacks=[PplCallback(tokenized_sentences_val,history_ppl)], batch_size=64)"
      ]
    },
    {
      "cell_type": "code",
      "execution_count": 27,
      "metadata": {
        "colab": {
          "base_uri": "https://localhost:8080/",
          "height": 430
        },
        "id": "K30JHB3Dv-mx",
        "outputId": "875ab686-1601-40a9-b15c-2e26bcd14d08"
      },
      "outputs": [
        {
          "data": {
            "image/png": "[encoded data removed]",
            "text/plain": [
              "<Figure size 640x480 with 1 Axes>"
            ]
          },
          "metadata": {},
          "output_type": "display_data"
        }
      ],
      "source": [
        "import matplotlib.pyplot as plt\n",
        "import seaborn as sns\n",
        "\n",
        "# Entrenamiento\n",
        "epoch_count = range(1, len(history_ppl) + 1)\n",
        "sns.lineplot(x=epoch_count,  y=history_ppl)\n",
        "plt.show()"
      ]
    },
    {
      "cell_type": "code",
      "execution_count": 28,
      "metadata": {
        "id": "Rhy5hZN38qfO"
      },
      "outputs": [],
      "source": [
        "# Cargamos el mejor modelo guardado del entrenamiento para hacer inferencia\n",
        "model = keras.models.load_model('best_model_char.keras')"
      ]
    },
    {
      "cell_type": "markdown",
      "metadata": {
        "id": "KN6Fg_BsxJe6"
      },
      "source": [
        "\n",
        "### Predicción del próximo caracter"
      ]
    },
    {
      "cell_type": "code",
      "execution_count": 29,
      "metadata": {
        "colab": {
          "base_uri": "https://localhost:8080/"
        },
        "id": "IBvKHFPmzpy2",
        "outputId": "9dda36ed-59d6-4497-d35e-5cd0a66b76e3"
      },
      "outputs": [
        {
          "name": "stdout",
          "output_type": "stream",
          "text": [
            "\u001b[2K     \u001b[90m━━━━━━━━━━━━━━━━━━━━━━━━━━━━━━━━━━━━━━━━\u001b[0m \u001b[32m50.4/50.4 kB\u001b[0m \u001b[31m4.0 MB/s\u001b[0m eta \u001b[36m0:00:00\u001b[0m\n",
            "\u001b[2K   \u001b[90m━━━━━━━━━━━━━━━━━━━━━━━━━━━━━━━━━━━━━━━━\u001b[0m \u001b[32m16.8/16.8 MB\u001b[0m \u001b[31m90.7 MB/s\u001b[0m eta \u001b[36m0:00:00\u001b[0m\n",
            "\u001b[2K   \u001b[90m━━━━━━━━━━━━━━━━━━━━━━━━━━━━━━━━━━━━━━━━\u001b[0m \u001b[32m318.7/318.7 kB\u001b[0m \u001b[31m24.6 MB/s\u001b[0m eta \u001b[36m0:00:00\u001b[0m\n",
            "\u001b[2K   \u001b[90m━━━━━━━━━━━━━━━━━━━━━━━━━━━━━━━━━━━━━━━━\u001b[0m \u001b[32m76.4/76.4 kB\u001b[0m \u001b[31m6.5 MB/s\u001b[0m eta \u001b[36m0:00:00\u001b[0m\n",
            "\u001b[2K   \u001b[90m━━━━━━━━━━━━━━━━━━━━━━━━━━━━━━━━━━━━━━━━\u001b[0m \u001b[32m77.9/77.9 kB\u001b[0m \u001b[31m7.3 MB/s\u001b[0m eta \u001b[36m0:00:00\u001b[0m\n",
            "\u001b[2K   \u001b[90m━━━━━━━━━━━━━━━━━━━━━━━━━━━━━━━━━━━━━━━━\u001b[0m \u001b[32m141.9/141.9 kB\u001b[0m \u001b[31m13.8 MB/s\u001b[0m eta \u001b[36m0:00:00\u001b[0m\n",
            "\u001b[2K   \u001b[90m━━━━━━━━━━━━━━━━━━━━━━━━━━━━━━━━━━━━━━━━\u001b[0m \u001b[32m10.3/10.3 MB\u001b[0m \u001b[31m109.2 MB/s\u001b[0m eta \u001b[36m0:00:00\u001b[0m\n",
            "\u001b[2K   \u001b[90m━━━━━━━━━━━━━━━━━━━━━━━━━━━━━━━━━━━━━━━━\u001b[0m \u001b[32m62.8/62.8 kB\u001b[0m \u001b[31m5.8 MB/s\u001b[0m eta \u001b[36m0:00:00\u001b[0m\n",
            "\u001b[2K   \u001b[90m━━━━━━━━━━━━━━━━━━━━━━━━━━━━━━━━━━━━━━━━\u001b[0m \u001b[32m93.5/93.5 kB\u001b[0m \u001b[31m8.1 MB/s\u001b[0m eta \u001b[36m0:00:00\u001b[0m\n",
            "\u001b[2K   \u001b[90m━━━━━━━━━━━━━━━━━━━━━━━━━━━━━━━━━━━━━━━━\u001b[0m \u001b[32m58.3/58.3 kB\u001b[0m \u001b[31m4.8 MB/s\u001b[0m eta \u001b[36m0:00:00\u001b[0m\n",
            "\u001b[2K   \u001b[90m━━━━━━━━━━━━━━━━━━━━━━━━━━━━━━━━━━━━━━━━\u001b[0m \u001b[32m72.0/72.0 kB\u001b[0m \u001b[31m6.7 MB/s\u001b[0m eta \u001b[36m0:00:00\u001b[0m\n",
            "\u001b[2K   \u001b[90m━━━━━━━━━━━━━━━━━━━━━━━━━━━━━━━━━━━━━━━━\u001b[0m \u001b[32m130.2/130.2 kB\u001b[0m \u001b[31m3.5 MB/s\u001b[0m eta \u001b[36m0:00:00\u001b[0m\n",
            "\u001b[?25h"
          ]
        }
      ],
      "source": [
        "# Se puede usar gradio para probar el modelo\n",
        "# Gradio es una herramienta muy útil para crear interfaces para ensayar modelos\n",
        "# https://gradio.app/\n",
        "\n",
        "!pip install -q gradio"
      ]
    },
    {
      "cell_type": "code",
      "execution_count": 30,
      "metadata": {
        "colab": {
          "base_uri": "https://localhost:8080/",
          "height": 723
        },
        "id": "HNyBykvhzs7-",
        "outputId": "01ead782-094a-4939-aa59-ce3b2bce428f"
      },
      "outputs": [
        {
          "name": "stdout",
          "output_type": "stream",
          "text": [
            "Setting queue=True in a Colab notebook requires sharing enabled. Setting `share=True` (you can turn this off by setting `share=False` in `launch()` explicitly).\n",
            "\n",
            "Colab notebook detected. This cell will run indefinitely so that you can see errors and logs. To turn off, set debug=False in launch().\n",
            "Running on public URL: https://1d0a1a71b615dd1758.gradio.live\n",
            "\n",
            "This share link expires in 72 hours. For free permanent hosting and GPU upgrades, run `gradio deploy` from Terminal to deploy to Spaces (https://huggingface.co/spaces)\n"
          ]
        },
        {
          "data": {
            "text/html": [
              "<div><iframe src=\"https://1d0a1a71b615dd1758.gradio.live\" width=\"100%\" height=\"500\" allow=\"autoplay; camera; microphone; clipboard-read; clipboard-write;\" frameborder=\"0\" allowfullscreen></iframe></div>"
            ],
            "text/plain": [
              "<IPython.core.display.HTML object>"
            ]
          },
          "metadata": {},
          "output_type": "display_data"
        },
        {
          "name": "stdout",
          "output_type": "stream",
          "text": [
            "\u001b[1m1/1\u001b[0m \u001b[32m━━━━━━━━━━━━━━━━━━━━\u001b[0m\u001b[37m\u001b[0m \u001b[1m2s\u001b[0m 2s/step\n",
            "\u001b[1m1/1\u001b[0m \u001b[32m━━━━━━━━━━━━━━━━━━━━\u001b[0m\u001b[37m\u001b[0m \u001b[1m0s\u001b[0m 17ms/step\n",
            "Keyboard interruption in main thread... closing server.\n",
            "Killing tunnel 127.0.0.1:7860 <> https://1d0a1a71b615dd1758.gradio.live\n"
          ]
        },
        {
          "data": {
            "text/plain": []
          },
          "execution_count": 30,
          "metadata": {},
          "output_type": "execute_result"
        }
      ],
      "source": [
        "import gradio as gr\n",
        "\n",
        "def model_response(human_text):\n",
        "\n",
        "    # Encodeamos\n",
        "    encoded = [char2idx[ch] for ch in human_text.lower() ]\n",
        "    # Si tienen distinto largo\n",
        "    encoded = pad_sequences([encoded], maxlen=max_context_size, padding='pre')\n",
        "\n",
        "    # Predicción softmax\n",
        "    y_hat = np.argmax(model.predict(encoded)[0,-1,:])\n",
        "\n",
        "\n",
        "    # Debemos buscar en el vocabulario el caracter\n",
        "    # que corresopnde al indice (y_hat) predicho por le modelo\n",
        "    out_word = ''\n",
        "    out_word = idx2char[y_hat]\n",
        "\n",
        "    # Agrego la palabra a la frase predicha\n",
        "    return human_text + out_word\n",
        "\n",
        "iface = gr.Interface(\n",
        "    fn=model_response,\n",
        "    inputs=[\"textbox\"],\n",
        "    outputs=\"text\")\n",
        "\n",
        "iface.launch(debug=True)"
      ]
    },
    {
      "cell_type": "markdown",
      "metadata": {
        "id": "mCeMWWupxN1-"
      },
      "source": [
        "### Generación de secuencias"
      ]
    },
    {
      "cell_type": "code",
      "execution_count": 31,
      "metadata": {
        "id": "bwbS_pfhxvB3"
      },
      "outputs": [],
      "source": [
        "def generate_seq(model, seed_text, max_length, n_words):\n",
        "    \"\"\"\n",
        "        Exec model sequence prediction\n",
        "\n",
        "        Args:\n",
        "            model (keras): modelo entrenado\n",
        "            seed_text (string): texto de entrada (input_seq)\n",
        "            max_length (int): máxima longitud de la sequencia de entrada\n",
        "            n_words (int): números de caracteres a agregar a la sequencia de entrada\n",
        "        returns:\n",
        "            output_text (string): sentencia con las \"n_words\" agregadas\n",
        "    \"\"\"\n",
        "    output_text = seed_text\n",
        "\t# generate a fixed number of words\n",
        "    for _ in range(n_words):\n",
        "\t\t# Encodeamos\n",
        "        encoded = [char2idx[ch] for ch in output_text.lower() ]\n",
        "\t\t# Si tienen distinto largo\n",
        "        encoded = pad_sequences([encoded], maxlen=max_length, padding='pre')\n",
        "\n",
        "\t\t# Predicción softmax\n",
        "        y_hat = np.argmax(model.predict(encoded,verbose=0)[0,-1,:])\n",
        "\t\t# Vamos concatenando las predicciones\n",
        "        out_word = ''\n",
        "\n",
        "        out_word = idx2char[y_hat]\n",
        "\n",
        "\t\t# Agrego las palabras a la frase predicha\n",
        "        output_text += out_word\n",
        "    return output_text"
      ]
    },
    {
      "cell_type": "code",
      "execution_count": 34,
      "metadata": {
        "colab": {
          "base_uri": "https://localhost:8080/",
          "height": 36
        },
        "id": "JoFqRC5pxzqS",
        "outputId": "d6d0f4cf-16cf-48cd-e716-de79b07f4caa"
      },
      "outputs": [
        {
          "data": {
            "application/vnd.google.colaboratory.intrinsic+json": {
              "type": "string"
            },
            "text/plain": [
              "'habia una vez una casa con la casa de la casa de la casa'"
            ]
          },
          "execution_count": 34,
          "metadata": {},
          "output_type": "execute_result"
        }
      ],
      "source": [
        "input_text='habia una vez una casa con'\n",
        "\n",
        "generate_seq(model, input_text, max_length=max_context_size, n_words=30)"
      ]
    },
    {
      "cell_type": "markdown",
      "metadata": {
        "id": "drJ6xn5qW1Hl"
      },
      "source": [
        "###  Beam search y muestreo aleatorio"
      ]
    },
    {
      "cell_type": "code",
      "execution_count": 35,
      "metadata": {
        "id": "_vovn9XZW1Hl"
      },
      "outputs": [],
      "source": [
        "# funcionalidades para hacer encoding y decoding\n",
        "\n",
        "def encode(text,max_length=max_context_size):\n",
        "\n",
        "    encoded = [char2idx[ch] for ch in text]\n",
        "    encoded = pad_sequences([encoded], maxlen=max_length, padding='pre')\n",
        "\n",
        "    return encoded\n",
        "\n",
        "def decode(seq):\n",
        "    return ''.join([idx2char[ch] for ch in seq])"
      ]
    },
    {
      "cell_type": "code",
      "execution_count": 40,
      "metadata": {
        "id": "I_lZiQwkW1Hl"
      },
      "outputs": [],
      "source": [
        "from scipy.special import softmax\n",
        "\n",
        "# función que selecciona candidatos para el beam search\n",
        "def select_candidates(pred,num_beams,vocab_size,history_probs,history_tokens,temp,mode):\n",
        "\n",
        "  # colectar todas las probabilidades para la siguiente búsqueda\n",
        "  pred_large = []\n",
        "\n",
        "  for idx,pp in enumerate(pred):\n",
        "    pred_large.extend(np.log(pp+1E-10)+history_probs[idx])\n",
        "\n",
        "  pred_large = np.array(pred_large)\n",
        "\n",
        "  # criterio de selección\n",
        "  if mode == 'det':\n",
        "    idx_select = np.argsort(pred_large)[::-1][:num_beams] # beam search determinista\n",
        "  elif mode == 'sto':\n",
        "    idx_select = np.random.choice(np.arange(pred_large.shape[0]), num_beams, p=softmax(pred_large/temp)) # beam search con muestreo aleatorio\n",
        "  else:\n",
        "    raise ValueError(f'Wrong selection mode. {mode} was given. det and sto are supported.')\n",
        "\n",
        "  # traducir a índices de token en el vocabulario\n",
        "  new_history_tokens = np.concatenate((np.array(history_tokens)[idx_select//vocab_size],\n",
        "                        np.array([idx_select%vocab_size]).T),\n",
        "                      axis=1)\n",
        "\n",
        "  # devolver el producto de las probabilidades (log) y la secuencia de tokens seleccionados\n",
        "  return pred_large[idx_select.astype(int)], new_history_tokens.astype(int)\n",
        "\n",
        "\n",
        "def beam_search(model,num_beams,num_words,input,temp=1,mode='det'):\n",
        "\n",
        "    # first iteration\n",
        "\n",
        "    # encode\n",
        "    encoded = encode(input)\n",
        "\n",
        "    # first prediction\n",
        "    y_hat = model.predict(encoded,verbose=0)[0,-1,:]\n",
        "\n",
        "    # get vocabulary size\n",
        "    vocab_size = y_hat.shape[0]\n",
        "\n",
        "    # initialize history\n",
        "    history_probs = [0]*num_beams\n",
        "    history_tokens = [encoded[0]]*num_beams\n",
        "\n",
        "    # select num_beams candidates\n",
        "    history_probs, history_tokens = select_candidates([y_hat],\n",
        "                                        num_beams,\n",
        "                                        vocab_size,\n",
        "                                        history_probs,\n",
        "                                        history_tokens,\n",
        "                                        temp,\n",
        "                                        mode)\n",
        "\n",
        "    # beam search loop\n",
        "    for i in range(num_words-1):\n",
        "\n",
        "      preds = []\n",
        "\n",
        "      for hist in history_tokens:\n",
        "\n",
        "        # actualizar secuencia de tokens\n",
        "        input_update = np.array([hist[i+1:]]).copy()\n",
        "\n",
        "        # predicción\n",
        "        y_hat = model.predict(input_update,verbose=0)[0,-1,:]\n",
        "\n",
        "        preds.append(y_hat)\n",
        "\n",
        "      history_probs, history_tokens = select_candidates(preds,\n",
        "                                                        num_beams,\n",
        "                                                        vocab_size,\n",
        "                                                        history_probs,\n",
        "                                                        history_tokens,\n",
        "                                                        temp,\n",
        "                                                        mode)\n",
        "\n",
        "    return history_tokens[:,-(len(input)+num_words):]"
      ]
    },
    {
      "cell_type": "code",
      "execution_count": 41,
      "metadata": {
        "id": "GeLqAoOYW1Hm"
      },
      "outputs": [],
      "source": [
        "# predicción con beam search\n",
        "salidas = beam_search(model,num_beams=10,num_words=20,input=\"habia una vez\")"
      ]
    },
    {
      "cell_type": "code",
      "execution_count": 42,
      "metadata": {
        "colab": {
          "base_uri": "https://localhost:8080/"
        },
        "id": "P8HQoLhw-NYg",
        "outputId": "8d6fc3d8-1855-496f-ffd1-1ccc7ef0bd09"
      },
      "outputs": [
        {
          "data": {
            "text/plain": [
              "array([22, 34,  6, 39, 34, 58, 64, 16, 34, 58, 20, 33, 46, 58, 33, 29, 58,\n",
              "       34,  9, 33, 16, 10, 33, 58, 23, 33, 58, 22, 34,  6, 24, 34, 58])"
            ]
          },
          "execution_count": 42,
          "metadata": {},
          "output_type": "execute_result"
        }
      ],
      "source": [
        "salidas[0]"
      ]
    },
    {
      "cell_type": "code",
      "execution_count": 43,
      "metadata": {
        "colab": {
          "base_uri": "https://localhost:8080/",
          "height": 36
        },
        "id": "2S3_I3S1W1Hm",
        "outputId": "3afbd74d-c549-484d-c2a4-de804a4de3b7"
      },
      "outputs": [
        {
          "data": {
            "application/vnd.google.colaboratory.intrinsic+json": {
              "type": "string"
            },
            "text/plain": [
              "'habia una vez el agente se había '"
            ]
          },
          "execution_count": 43,
          "metadata": {},
          "output_type": "execute_result"
        }
      ],
      "source": [
        "# veamos las salidas\n",
        "decode(salidas[0])"
      ]
    },
    {
      "cell_type": "markdown",
      "metadata": {
        "id": "tHVegRmxwJ3P"
      },
      "source": [
        "Se observa que, si bien los resultados no tienen sentido en cuanto al significado, si al menos tiene una estructura gramatical aceptable para un modelo con una sola capa recurrente"
      ]
    },
    {
      "cell_type": "markdown",
      "metadata": {
        "id": "Q_LlqmtEW1Hn"
      },
      "source": []
    }
  ],
  "metadata": {
    "accelerator": "GPU",
    "colab": {
      "gpuType": "T4",
      "provenance": []
    },
    "kernelspec": {
      "display_name": "Python 3",
      "name": "python3"
    },
    "language_info": {
      "codemirror_mode": {
        "name": "ipython",
        "version": 3
      },
      "file_extension": ".py",
      "mimetype": "text/x-python",
      "name": "python",
      "nbconvert_exporter": "python",
      "pygments_lexer": "ipython3",
      "version": "3.10.6"
    }
  },
  "nbformat": 4,
  "nbformat_minor": 0
}
